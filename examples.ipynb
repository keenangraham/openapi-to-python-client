{
 "cells": [
  {
   "cell_type": "code",
   "execution_count": 2,
   "id": "09b2dd1a-3a32-44e3-9d13-03159973c5da",
   "metadata": {},
   "outputs": [],
   "source": [
    "from igvf_client import IgvfApi"
   ]
  },
  {
   "cell_type": "code",
   "execution_count": 3,
   "id": "ac87341e-32a7-431e-bd5b-c0faab15e18c",
   "metadata": {},
   "outputs": [],
   "source": [
    "api = IgvfApi()"
   ]
  },
  {
   "cell_type": "code",
   "execution_count": 77,
   "id": "512bf045-7267-40db-9f58-0ab91af8d568",
   "metadata": {},
   "outputs": [],
   "source": [
    "results = api.search(query='abc')"
   ]
  },
  {
   "cell_type": "code",
   "execution_count": 83,
   "id": "11e665db-913b-49c7-ad19-f529ca813733",
   "metadata": {},
   "outputs": [
    {
     "data": {
      "text/plain": [
       "SearchResults(graph=[SearchResultItem(actual_instance=Software(release_timestamp=datetime.datetime(2023, 3, 14, 0, 12, 36, 14029, tzinfo=TzInfo(UTC)), publications=None, publication_identifiers=None, lab='/labs/jesse-engreitz/', award='/awards/HG011972/', status='released', schema_version='5', uuid='f37503db-d59c-455d-99f0-7065c9afadfb', notes=None, aliases=None, creation_timestamp=datetime.datetime(2023, 3, 13, 23, 29, 35, 927480, tzinfo=TzInfo(UTC)), submitted_by='/users/05f44ea6-5f00-440c-99e3-6b54f5792028/', submitter_comment=None, description='Target gene prediction (element)', name='abc', title='ABC', source_url='https://github.com/broadinstitute/ABC-Enhancer-Gene-Prediction', used_by=None, id='/software/abc/', type=['Software', 'Item'], summary='abc', versions=[])), SearchResultItem(actual_instance=Source(release_timestamp=datetime.datetime(2023, 3, 24, 21, 3, 35, 57521, tzinfo=TzInfo(UTC)), status='released', url='http://www.abcam.com', schema_version='4', uuid='b10f3c4b-d525-4e86-b1f6-a169e1ec5774', notes=None, aliases=None, creation_timestamp=datetime.datetime(2023, 3, 24, 21, 3, 35, 60832, tzinfo=TzInfo(UTC)), submitted_by='/users/5e3038c4-baa5-4589-b3d8-ad2fe634e826/', submitter_comment=None, description='Abcam', title='Abcam', name='abcam', id='/sources/abcam/', type=['Source', 'Item'], summary='Abcam')), SearchResultItem(actual_instance=Source(release_timestamp=datetime.datetime(2023, 3, 24, 21, 3, 35, 493152, tzinfo=TzInfo(UTC)), status='released', url='http://www.abclonal.com/', schema_version='4', uuid='3ff58555-6c26-483c-930d-ddda6bf9badd', notes=None, aliases=None, creation_timestamp=datetime.datetime(2023, 3, 24, 21, 3, 35, 497182, tzinfo=TzInfo(UTC)), submitted_by='/users/5e3038c4-baa5-4589-b3d8-ad2fe634e826/', submitter_comment=None, description='ABclonal Technology', title='ABclonal', name='abclonal', id='/sources/abclonal/', type=['Source', 'Item'], summary='ABclonal')), SearchResultItem(actual_instance=Software(release_timestamp=datetime.datetime(2023, 3, 14, 0, 14, 14, 620564, tzinfo=TzInfo(UTC)), publications=None, publication_identifiers=None, lab='/labs/jesse-engreitz/', award='/awards/HG011972/', status='released', schema_version='5', uuid='48a9ccf4-9f3f-4c96-98c8-b390713163ae', notes=None, aliases=None, creation_timestamp=datetime.datetime(2023, 3, 13, 23, 29, 36, 381788, tzinfo=TzInfo(UTC)), submitted_by='/users/05f44ea6-5f00-440c-99e3-6b54f5792028/', submitter_comment=None, description='Noncoding variant effects/prioritization', name='abc-max', title='ABC-Max', source_url='https://github.com/EngreitzLab/ABC-GWAS-Paper/tree/main/ABC-Max', used_by=None, id='/software/abc-max/', type=['Software', 'Item'], summary='abc-max', versions=[]))], id='/search?query=abc&frame=object', type=['Search'], total=4, facets=[SearchFacet(var_field='type', title='Data Type', terms=[{'key': 'Software', 'doc_count': 2}, {'key': 'Source', 'doc_count': 2}])])"
      ]
     },
     "execution_count": 83,
     "metadata": {},
     "output_type": "execute_result"
    }
   ],
   "source": [
    "results"
   ]
  },
  {
   "cell_type": "code",
   "execution_count": 27,
   "id": "f5c5f6d2-3d07-4c1f-ab8f-60cdbbc1c6ec",
   "metadata": {},
   "outputs": [
    {
     "data": {
      "text/plain": [
       "4"
      ]
     },
     "execution_count": 27,
     "metadata": {},
     "output_type": "execute_result"
    }
   ],
   "source": [
    "results.total"
   ]
  },
  {
   "cell_type": "code",
   "execution_count": 28,
   "id": "f4673aa3-06d7-4545-aab4-8fc2ba7acc44",
   "metadata": {},
   "outputs": [
    {
     "data": {
      "text/plain": [
       "[SearchFacet(var_field='type', title='Data Type', terms=[{'key': 'Software', 'doc_count': 2}, {'key': 'Source', 'doc_count': 2}])]"
      ]
     },
     "execution_count": 28,
     "metadata": {},
     "output_type": "execute_result"
    }
   ],
   "source": [
    "results.facets"
   ]
  },
  {
   "cell_type": "code",
   "execution_count": 29,
   "id": "d292764e-cc64-4693-88e3-6a9db68c6d3b",
   "metadata": {},
   "outputs": [
    {
     "data": {
      "text/plain": [
       "'/search?query=abc&frame=object'"
      ]
     },
     "execution_count": 29,
     "metadata": {},
     "output_type": "execute_result"
    }
   ],
   "source": [
    "results.id"
   ]
  },
  {
   "cell_type": "code",
   "execution_count": 30,
   "id": "38749f3f-5661-4ed4-b568-d6938251ac8d",
   "metadata": {},
   "outputs": [
    {
     "data": {
      "text/plain": [
       "[SearchResultItem(actual_instance=Software(release_timestamp=datetime.datetime(2023, 3, 14, 0, 12, 36, 14029, tzinfo=TzInfo(UTC)), publications=None, publication_identifiers=None, lab='/labs/jesse-engreitz/', award='/awards/HG011972/', status='released', schema_version='5', uuid='f37503db-d59c-455d-99f0-7065c9afadfb', notes=None, aliases=None, creation_timestamp=datetime.datetime(2023, 3, 13, 23, 29, 35, 927480, tzinfo=TzInfo(UTC)), submitted_by='/users/05f44ea6-5f00-440c-99e3-6b54f5792028/', submitter_comment=None, description='Target gene prediction (element)', name='abc', title='ABC', source_url='https://github.com/broadinstitute/ABC-Enhancer-Gene-Prediction', used_by=None, id='/software/abc/', type=['Software', 'Item'], summary='abc', versions=[])),\n",
       " SearchResultItem(actual_instance=Source(release_timestamp=datetime.datetime(2023, 3, 24, 21, 3, 35, 57521, tzinfo=TzInfo(UTC)), status='released', url='http://www.abcam.com', schema_version='4', uuid='b10f3c4b-d525-4e86-b1f6-a169e1ec5774', notes=None, aliases=None, creation_timestamp=datetime.datetime(2023, 3, 24, 21, 3, 35, 60832, tzinfo=TzInfo(UTC)), submitted_by='/users/5e3038c4-baa5-4589-b3d8-ad2fe634e826/', submitter_comment=None, description='Abcam', title='Abcam', name='abcam', id='/sources/abcam/', type=['Source', 'Item'], summary='Abcam')),\n",
       " SearchResultItem(actual_instance=Source(release_timestamp=datetime.datetime(2023, 3, 24, 21, 3, 35, 493152, tzinfo=TzInfo(UTC)), status='released', url='http://www.abclonal.com/', schema_version='4', uuid='3ff58555-6c26-483c-930d-ddda6bf9badd', notes=None, aliases=None, creation_timestamp=datetime.datetime(2023, 3, 24, 21, 3, 35, 497182, tzinfo=TzInfo(UTC)), submitted_by='/users/5e3038c4-baa5-4589-b3d8-ad2fe634e826/', submitter_comment=None, description='ABclonal Technology', title='ABclonal', name='abclonal', id='/sources/abclonal/', type=['Source', 'Item'], summary='ABclonal')),\n",
       " SearchResultItem(actual_instance=Software(release_timestamp=datetime.datetime(2023, 3, 14, 0, 14, 14, 620564, tzinfo=TzInfo(UTC)), publications=None, publication_identifiers=None, lab='/labs/jesse-engreitz/', award='/awards/HG011972/', status='released', schema_version='5', uuid='48a9ccf4-9f3f-4c96-98c8-b390713163ae', notes=None, aliases=None, creation_timestamp=datetime.datetime(2023, 3, 13, 23, 29, 36, 381788, tzinfo=TzInfo(UTC)), submitted_by='/users/05f44ea6-5f00-440c-99e3-6b54f5792028/', submitter_comment=None, description='Noncoding variant effects/prioritization', name='abc-max', title='ABC-Max', source_url='https://github.com/EngreitzLab/ABC-GWAS-Paper/tree/main/ABC-Max', used_by=None, id='/software/abc-max/', type=['Software', 'Item'], summary='abc-max', versions=[]))]"
      ]
     },
     "execution_count": 30,
     "metadata": {},
     "output_type": "execute_result"
    }
   ],
   "source": [
    "results.graph"
   ]
  },
  {
   "cell_type": "code",
   "execution_count": 32,
   "id": "52c07fcd-04a2-4f1c-b7a9-eb6f304db7fe",
   "metadata": {},
   "outputs": [],
   "source": [
    "item = results.graph[0]"
   ]
  },
  {
   "cell_type": "code",
   "execution_count": 33,
   "id": "75893d44-95d9-4158-97b2-06ad47589ab0",
   "metadata": {},
   "outputs": [
    {
     "data": {
      "text/plain": [
       "SearchResultItem(actual_instance=Software(release_timestamp=datetime.datetime(2023, 3, 14, 0, 12, 36, 14029, tzinfo=TzInfo(UTC)), publications=None, publication_identifiers=None, lab='/labs/jesse-engreitz/', award='/awards/HG011972/', status='released', schema_version='5', uuid='f37503db-d59c-455d-99f0-7065c9afadfb', notes=None, aliases=None, creation_timestamp=datetime.datetime(2023, 3, 13, 23, 29, 35, 927480, tzinfo=TzInfo(UTC)), submitted_by='/users/05f44ea6-5f00-440c-99e3-6b54f5792028/', submitter_comment=None, description='Target gene prediction (element)', name='abc', title='ABC', source_url='https://github.com/broadinstitute/ABC-Enhancer-Gene-Prediction', used_by=None, id='/software/abc/', type=['Software', 'Item'], summary='abc', versions=[]))"
      ]
     },
     "execution_count": 33,
     "metadata": {},
     "output_type": "execute_result"
    }
   ],
   "source": [
    "item"
   ]
  },
  {
   "cell_type": "code",
   "execution_count": 34,
   "id": "ca1c99d8-f39a-4de2-a4f0-ebcb3c1e4320",
   "metadata": {},
   "outputs": [
    {
     "data": {
      "text/plain": [
       "'released'"
      ]
     },
     "execution_count": 34,
     "metadata": {},
     "output_type": "execute_result"
    }
   ],
   "source": [
    "item.status"
   ]
  },
  {
   "cell_type": "code",
   "execution_count": 35,
   "id": "16f04f3f-1319-439c-93a7-c04a66e56e14",
   "metadata": {},
   "outputs": [
    {
     "data": {
      "text/plain": [
       "'/software/abc/'"
      ]
     },
     "execution_count": 35,
     "metadata": {},
     "output_type": "execute_result"
    }
   ],
   "source": [
    "item.id"
   ]
  },
  {
   "cell_type": "code",
   "execution_count": 36,
   "id": "c8146133-f60d-4b8c-bb50-b042323687ff",
   "metadata": {},
   "outputs": [
    {
     "data": {
      "text/plain": [
       "'/labs/jesse-engreitz/'"
      ]
     },
     "execution_count": 36,
     "metadata": {},
     "output_type": "execute_result"
    }
   ],
   "source": [
    "item.lab"
   ]
  },
  {
   "cell_type": "code",
   "execution_count": 38,
   "id": "f1c89d21-6a20-40a6-b8dd-439a26318a4a",
   "metadata": {},
   "outputs": [
    {
     "data": {
      "text/plain": [
       "Item(actual_instance=Lab(status='current', url='https://www.engreitzlab.org/', schema_version='3', uuid='083882e6-c0fb-4cee-ae94-c1138a2195e7', notes=None, aliases=None, creation_timestamp=datetime.datetime(2023, 1, 27, 1, 25, 29, 847716, tzinfo=TzInfo(UTC)), submitted_by='/users/1e75d989-a438-4d77-a451-8a297fd3636e/', submitter_comment=None, description=None, name='jesse-engreitz', pi='/users/6c75dbfa-635e-4a7a-8ec8-9e51e9c380a4/', awards=['/awards/HG011972/'], institute_label='Stanford', id='/labs/jesse-engreitz/', type=['Lab', 'Item'], summary='Jesse Engreitz, Stanford', title='Jesse Engreitz, Stanford'))"
      ]
     },
     "execution_count": 38,
     "metadata": {},
     "output_type": "execute_result"
    }
   ],
   "source": [
    "lab = api.get_by_id(item.lab)\n",
    "lab"
   ]
  },
  {
   "cell_type": "code",
   "execution_count": 39,
   "id": "ffbcdd8e-cf18-44b6-bce4-415d6108457a",
   "metadata": {},
   "outputs": [
    {
     "data": {
      "text/plain": [
       "'/labs/jesse-engreitz/'"
      ]
     },
     "execution_count": 39,
     "metadata": {},
     "output_type": "execute_result"
    }
   ],
   "source": [
    "lab.id"
   ]
  },
  {
   "cell_type": "code",
   "execution_count": 40,
   "id": "df740d3b-742d-4de2-9f1f-d939d84d9cee",
   "metadata": {},
   "outputs": [
    {
     "data": {
      "text/plain": [
       "'Jesse Engreitz, Stanford'"
      ]
     },
     "execution_count": 40,
     "metadata": {},
     "output_type": "execute_result"
    }
   ],
   "source": [
    "lab.title"
   ]
  },
  {
   "cell_type": "code",
   "execution_count": 42,
   "id": "400133bf-0609-42bb-8af7-41ade4d997e0",
   "metadata": {},
   "outputs": [
    {
     "data": {
      "text/plain": [
       "Item(actual_instance=User(status='current', schema_version='5', uuid='6c75dbfa-635e-4a7a-8ec8-9e51e9c380a4', notes=None, aliases=None, creation_timestamp=None, submitted_by=None, submitter_comment=None, description=None, email=None, first_name=None, last_name=None, lab='/labs/jesse-engreitz/', submits_for=['/labs/jesse-engreitz/'], groups=None, viewing_groups=['IGVF'], job_title=None, id='/users/6c75dbfa-635e-4a7a-8ec8-9e51e9c380a4/', type=['User', 'Item'], summary=None, title='Jesse Engreitz'))"
      ]
     },
     "execution_count": 42,
     "metadata": {},
     "output_type": "execute_result"
    }
   ],
   "source": [
    "user = api.get_by_id(lab.pi)\n",
    "user"
   ]
  },
  {
   "cell_type": "code",
   "execution_count": 43,
   "id": "23ad05af-e7a9-47f8-9a7e-1af234cd142e",
   "metadata": {},
   "outputs": [
    {
     "data": {
      "text/plain": [
       "'/users/6c75dbfa-635e-4a7a-8ec8-9e51e9c380a4/'"
      ]
     },
     "execution_count": 43,
     "metadata": {},
     "output_type": "execute_result"
    }
   ],
   "source": [
    "user.id"
   ]
  },
  {
   "cell_type": "code",
   "execution_count": 45,
   "id": "5aeba041-63cd-4e8c-8202-adce42e6dc9b",
   "metadata": {},
   "outputs": [
    {
     "data": {
      "text/plain": [
       "SearchResults(graph=[SearchResultItem(actual_instance=User(status='current', schema_version='5', uuid='f9e7cd82-a407-4a20-89ee-f4dc668b0cbe', notes=None, aliases=None, creation_timestamp=None, submitted_by=None, submitter_comment=None, description=None, email=None, first_name=None, last_name=None, lab='/labs/jesse-engreitz/', submits_for=['/labs/jesse-engreitz/', '/labs/thomas-quertermous/', '/labs/anshul-kundaje/', '/labs/michael-bassik/', '/labs/will-greenleaf/', '/labs/marlene-rabinovitch/', '/labs/lars-steinmetz/'], groups=None, viewing_groups=['IGVF'], job_title=None, id='/users/f9e7cd82-a407-4a20-89ee-f4dc668b0cbe/', type=['User', 'Item'], summary=None, title='Michael Montgomery')), SearchResultItem(actual_instance=User(status='current', schema_version='5', uuid='e5d430d2-0b7c-41cb-91be-ce0ddd787af9', notes=None, aliases=None, creation_timestamp=None, submitted_by=None, submitter_comment=None, description=None, email=None, first_name=None, last_name=None, lab='/labs/jesse-engreitz/', submits_for=['/labs/jesse-engreitz/', '/labs/thomas-quertermous/', '/labs/anshul-kundaje/', '/labs/michael-bassik/', '/labs/will-greenleaf/', '/labs/marlene-rabinovitch/', '/labs/lars-steinmetz/'], groups=None, viewing_groups=['IGVF'], job_title=None, id='/users/e5d430d2-0b7c-41cb-91be-ce0ddd787af9/', type=['User', 'Item'], summary=None, title='Dulguun Amgalan')), SearchResultItem(actual_instance=User(status='current', schema_version='5', uuid='ddb425b6-3b56-4b7b-9887-15aadd20ed99', notes=None, aliases=None, creation_timestamp=None, submitted_by=None, submitter_comment=None, description=None, email=None, first_name=None, last_name=None, lab='/labs/jesse-engreitz/', submits_for=['/labs/jesse-engreitz/', '/labs/thomas-quertermous/', '/labs/anshul-kundaje/', '/labs/michael-bassik/', '/labs/will-greenleaf/', '/labs/marlene-rabinovitch/', '/labs/lars-steinmetz/'], groups=None, viewing_groups=['IGVF'], job_title=None, id='/users/ddb425b6-3b56-4b7b-9887-15aadd20ed99/', type=['User', 'Item'], summary=None, title='Evelyn Jagoda')), SearchResultItem(actual_instance=User(status='current', schema_version='5', uuid='a138ff68-2623-439d-ada7-94f409cd1469', notes=None, aliases=None, creation_timestamp=None, submitted_by=None, submitter_comment=None, description=None, email=None, first_name=None, last_name=None, lab='/labs/jesse-engreitz/', submits_for=['/labs/jesse-engreitz/', '/labs/thomas-quertermous/', '/labs/anshul-kundaje/', '/labs/michael-bassik/', '/labs/will-greenleaf/', '/labs/marlene-rabinovitch/', '/labs/lars-steinmetz/'], groups=None, viewing_groups=['IGVF'], job_title=None, id='/users/a138ff68-2623-439d-ada7-94f409cd1469/', type=['User', 'Item'], summary=None, title='Tony Zeng')), SearchResultItem(actual_instance=User(status='current', schema_version='5', uuid='7c7ca375-a30f-4237-a212-100be64fbaed', notes=None, aliases=None, creation_timestamp=None, submitted_by=None, submitter_comment=None, description=None, email=None, first_name=None, last_name=None, lab='/labs/jesse-engreitz/', submits_for=['/labs/jesse-engreitz/', '/labs/thomas-quertermous/', '/labs/anshul-kundaje/', '/labs/michael-bassik/', '/labs/will-greenleaf/', '/labs/marlene-rabinovitch/', '/labs/lars-steinmetz/'], groups=None, viewing_groups=['IGVF'], job_title=None, id='/users/7c7ca375-a30f-4237-a212-100be64fbaed/', type=['User', 'Item'], summary=None, title='Wenyan Zhang')), SearchResultItem(actual_instance=User(status='current', schema_version='5', uuid='6c75dbfa-635e-4a7a-8ec8-9e51e9c380a4', notes=None, aliases=None, creation_timestamp=None, submitted_by=None, submitter_comment=None, description=None, email=None, first_name=None, last_name=None, lab='/labs/jesse-engreitz/', submits_for=['/labs/jesse-engreitz/'], groups=None, viewing_groups=['IGVF'], job_title=None, id='/users/6c75dbfa-635e-4a7a-8ec8-9e51e9c380a4/', type=['User', 'Item'], summary=None, title='Jesse Engreitz')), SearchResultItem(actual_instance=User(status='current', schema_version='5', uuid='4b2083b4-24c1-41d8-9daa-e79299f00d6e', notes=None, aliases=None, creation_timestamp=None, submitted_by=None, submitter_comment=None, description=None, email=None, first_name=None, last_name=None, lab='/labs/jesse-engreitz/', submits_for=['/labs/jesse-engreitz/', '/labs/thomas-quertermous/', '/labs/anshul-kundaje/', '/labs/michael-bassik/', '/labs/will-greenleaf/', '/labs/marlene-rabinovitch/', '/labs/lars-steinmetz/'], groups=None, viewing_groups=['IGVF'], job_title=None, id='/users/4b2083b4-24c1-41d8-9daa-e79299f00d6e/', type=['User', 'Item'], summary=None, title='Ronghao Zhou')), SearchResultItem(actual_instance=User(status='current', schema_version='5', uuid='12693ee2-fa46-421f-8c44-831d9e13ec10', notes=None, aliases=None, creation_timestamp=None, submitted_by=None, submitter_comment=None, description=None, email=None, first_name=None, last_name=None, lab='/labs/jesse-engreitz/', submits_for=['/labs/jesse-engreitz/', '/labs/thomas-quertermous/', '/labs/anshul-kundaje/', '/labs/michael-bassik/', '/labs/will-greenleaf/', '/labs/marlene-rabinovitch/', '/labs/lars-steinmetz/'], groups=None, viewing_groups=['IGVF'], job_title=None, id='/users/12693ee2-fa46-421f-8c44-831d9e13ec10/', type=['User', 'Item'], summary=None, title='Gabriella Martyn')), SearchResultItem(actual_instance=User(status='current', schema_version='5', uuid='05fa0dc9-0e33-427c-9d1f-82393edc4a03', notes=None, aliases=None, creation_timestamp=None, submitted_by=None, submitter_comment=None, description=None, email=None, first_name=None, last_name=None, lab='/labs/jesse-engreitz/', submits_for=['/labs/jesse-engreitz/', '/labs/thomas-quertermous/', '/labs/anshul-kundaje/', '/labs/michael-bassik/', '/labs/will-greenleaf/', '/labs/marlene-rabinovitch/', '/labs/lars-steinmetz/'], groups=None, viewing_groups=['IGVF'], job_title=None, id='/users/05fa0dc9-0e33-427c-9d1f-82393edc4a03/', type=['User', 'Item'], summary=None, title='Helen Kang'))], id='/search?lab=/labs/jesse-engreitz/&frame=object', type=['Search'], total=9, facets=[SearchFacet(var_field='type', title='Data Type', terms=[{'key': 'User', 'doc_count': 9}]), SearchFacet(var_field='lab', title='lab', terms=[{'key': '/labs/jesse-engreitz/', 'isEqual': True}])])"
      ]
     },
     "execution_count": 45,
     "metadata": {},
     "output_type": "execute_result"
    }
   ],
   "source": [
    "results = api.search(field_filters={'lab': lab.id})\n",
    "results"
   ]
  },
  {
   "cell_type": "code",
   "execution_count": 46,
   "id": "e067aa2e-3a39-4637-8f59-095fd80be265",
   "metadata": {},
   "outputs": [
    {
     "data": {
      "text/plain": [
       "9"
      ]
     },
     "execution_count": 46,
     "metadata": {},
     "output_type": "execute_result"
    }
   ],
   "source": [
    "results.total"
   ]
  },
  {
   "cell_type": "code",
   "execution_count": 47,
   "id": "5875f835-746e-4b11-84ff-ae1fa46fe123",
   "metadata": {},
   "outputs": [
    {
     "data": {
      "text/plain": [
       "[SearchFacet(var_field='type', title='Data Type', terms=[{'key': 'User', 'doc_count': 9}]),\n",
       " SearchFacet(var_field='lab', title='lab', terms=[{'key': '/labs/jesse-engreitz/', 'isEqual': True}])]"
      ]
     },
     "execution_count": 47,
     "metadata": {},
     "output_type": "execute_result"
    }
   ],
   "source": [
    "results.facets"
   ]
  },
  {
   "cell_type": "code",
   "execution_count": 49,
   "id": "c1180799-f09c-4922-a989-9e43bc5f9907",
   "metadata": {},
   "outputs": [
    {
     "data": {
      "text/plain": [
       "['Michael Montgomery',\n",
       " 'Dulguun Amgalan',\n",
       " 'Evelyn Jagoda',\n",
       " 'Tony Zeng',\n",
       " 'Wenyan Zhang',\n",
       " 'Jesse Engreitz',\n",
       " 'Ronghao Zhou',\n",
       " 'Gabriella Martyn',\n",
       " 'Helen Kang']"
      ]
     },
     "execution_count": 49,
     "metadata": {},
     "output_type": "execute_result"
    }
   ],
   "source": [
    "[r.title for r in results.graph]"
   ]
  },
  {
   "cell_type": "code",
   "execution_count": 52,
   "id": "eb99444f-7843-4fca-9a78-008efb0216c3",
   "metadata": {},
   "outputs": [
    {
     "data": {
      "text/plain": [
       "SearchResults(graph=[SearchResultItem(actual_instance=TabularFile(controlled_access=False, anvil_url=None, assembly='GRCh38', release_timestamp=datetime.datetime(2024, 7, 10, 21, 20, 3, 378713, tzinfo=TzInfo(UTC)), file_format_type=None, transcriptome_annotation=None, documents=None, lab='/labs/jesse-engreitz/', award='/awards/HG011972/', accession='IGVFFI8092FZKL', alternate_accessions=None, collections=None, status='released', revoke_detail=None, schema_version='11', uuid='fdbdc159-e5b9-40a8-b788-3f72c9886b03', notes=None, aliases=['jesse-engreitz:locus_file_CRUDO_MYC'], creation_timestamp=datetime.datetime(2024, 5, 31, 21, 2, 44, 602697, tzinfo=TzInfo(UTC)), submitted_by='/users/100f06c6-83a7-4b4d-9dfd-053a1829773b/', submitter_comment=None, description=None, analysis_step_version=None, content_md5sum='4aa6e40c55b54a3cc40d1cb1ef9093a3', content_type='elements reference', dbxrefs=None, derived_from=None, file_format='tsv', file_format_specifications=None, file_set='/curated-sets/IGVFDS2476WFVW/', file_size=4732, md5sum='ea8051cc2571447ca8f413aa99a4764a', submitted_file_name='/oak/stanford/groups/engreitz/Projects/Cohesin/240410_IGVF_upload/MYC.large_scale_loci_list.bed.gz', upload_status='validated', validation_error_detail=None, id='/tabular-files/IGVFFI8092FZKL/', type=['TabularFile', 'File', 'Item'], summary='GRCh38 elements reference', integrated_in=[], input_file_for=[], gene_list_for=[], loci_list_for=['/construct-library-sets/IGVFDS7857SYCK/'], href='/tabular-files/IGVFFI8092FZKL/@@download/IGVFFI8092FZKL.tsv.gz', s3_uri='s3://igvf-files/2024/05/31/fdbdc159-e5b9-40a8-b788-3f72c9886b03/IGVFFI8092FZKL.tsv.gz', upload_credentials=None)), SearchResultItem(actual_instance=TabularFile(controlled_access=False, anvil_url=None, assembly=None, release_timestamp=datetime.datetime(2024, 7, 10, 20, 27, 55, 45375, tzinfo=TzInfo(UTC)), file_format_type=None, transcriptome_annotation=None, documents=None, lab='/labs/jesse-engreitz/', award='/awards/HG011972/', accession='IGVFFI8620CKHK', alternate_accessions=None, collections=None, status='released', revoke_detail=None, schema_version='11', uuid='f9460807-64a1-4586-be69-0936162bffd2', notes=None, aliases=['jesse-engreitz:auxiliary_sortparams_file_CRUDO_FAM3C_Auxin6hrs-FF2'], creation_timestamp=datetime.datetime(2024, 7, 3, 0, 35, 32, 883273, tzinfo=TzInfo(UTC)), submitted_by='/users/100f06c6-83a7-4b4d-9dfd-053a1829773b/', submitter_comment=None, description=None, analysis_step_version=None, content_md5sum='5c0dad4d70a070d79be57aa442559cc1', content_type='sample sort parameters', dbxrefs=None, derived_from=None, file_format='tsv', file_format_specifications=None, file_set='/auxiliary-sets/IGVFDS0422FVNU/', file_size=489, md5sum='c4de1a8c8dfeed5b9c372ce84b90dcbb', submitted_file_name='/oak/stanford/groups/engreitz/Projects/Cohesin/240410_IGVF_upload/sortparams2/220307B014_15.fam3c.tsv.gz', upload_status='validated', validation_error_detail=None, id='/tabular-files/IGVFFI8620CKHK/', type=['TabularFile', 'File', 'Item'], summary='sample sort parameters', integrated_in=[], input_file_for=[], gene_list_for=[], loci_list_for=[], href='/tabular-files/IGVFFI8620CKHK/@@download/IGVFFI8620CKHK.tsv.gz', s3_uri='s3://igvf-files/2024/07/03/f9460807-64a1-4586-be69-0936162bffd2/IGVFFI8620CKHK.tsv.gz', upload_credentials=None)), SearchResultItem(actual_instance=ReferenceFile(controlled_access=False, anvil_url=None, assembly=None, release_timestamp=datetime.datetime(2023, 12, 7, 5, 50, 2, 552944, tzinfo=TzInfo(UTC)), file_format_type=None, transcriptome_annotation=None, documents=None, lab='/labs/j-michael-cherry/', award='/awards/HG012012/', accession='IGVFFI4821BJHQ', alternate_accessions=None, collections=['IGVF_catalog_beta_v0.1'], status='released', revoke_detail=None, schema_version='14', uuid='f2810ee7-d39f-45ab-b1a9-a014d941324a', notes=None, aliases=None, creation_timestamp=datetime.datetime(2023, 11, 22, 22, 8, 19, 986923, tzinfo=TzInfo(UTC)), submitted_by='/users/6bae687f-b77a-46b9-af0e-a02c135cf42e/', submitter_comment=None, description=None, analysis_step_version=None, content_md5sum='5fc8cb5c9563215dc36e5e166568c459', content_type='variants_drugs', dbxrefs=None, derived_from=None, file_format='tsv', file_format_specifications=None, file_set='/curated-sets/IGVFDS3509VPYM/', file_size=2810001, md5sum='4960395ded816a6d651fd3d847f59ffb', submitted_file_name='/home/ubuntu/igvf-catalog-shengcheng/data/data_loading_support_files/pharmGKB_genes.tsv.gz', upload_status='invalidated', validation_error_detail='{\"tabular_file_error\": [[34, 14, \"missing-cell\", \"\"], [34, 15, \"missing-cell\", \"\"], [34, 16, \"missing-cell\", \"\"], [34, 17, \"missing-cell\", \"\"], [72, 14, \"missing-cell\", \"\"], [72, 15, \"missing-cell\", \"\"], [72, 16, \"missing-cell\", \"\"], [72, 17, \"missing-cell\", \"\"], [236, 14, \"missing-cell\", \"\"], [236, 15, \"missing-cell\", \"\"]]}', source_url='https://api.pharmgkb.org/v1/download/file/data/genes.zip', sources=None, external=False, external_id=None, id='/reference-files/IGVFFI4821BJHQ/', type=['ReferenceFile', 'File', 'Item'], summary='variants_drugs', integrated_in=[], input_file_for=[], gene_list_for=[], loci_list_for=[], href='/reference-files/IGVFFI4821BJHQ/@@download/IGVFFI4821BJHQ.tsv.gz', s3_uri='s3://igvf-files/2023/11/22/f2810ee7-d39f-45ab-b1a9-a014d941324a/IGVFFI4821BJHQ.tsv.gz', upload_credentials=None)), SearchResultItem(actual_instance=ReferenceFile(controlled_access=False, anvil_url=None, assembly=None, release_timestamp=datetime.datetime(2023, 12, 7, 5, 50, 4, 701078, tzinfo=TzInfo(UTC)), file_format_type=None, transcriptome_annotation=None, documents=None, lab='/labs/j-michael-cherry/', award='/awards/HG012012/', accession='IGVFFI0050HPJU', alternate_accessions=None, collections=['IGVF_catalog_beta_v0.1'], status='released', revoke_detail=None, schema_version='14', uuid='e8997e75-c091-488f-842d-fc81224b3f2d', notes=None, aliases=None, creation_timestamp=datetime.datetime(2023, 11, 22, 19, 47, 53, 951983, tzinfo=TzInfo(UTC)), submitted_by='/users/6bae687f-b77a-46b9-af0e-a02c135cf42e/', submitter_comment=None, description=None, analysis_step_version=None, content_md5sum='9d936ccc0610fa075819d3dad789e7db', content_type='motifs_proteins', dbxrefs=None, derived_from=None, file_format='tsv', file_format_specifications=None, file_set='/curated-sets/IGVFDS9319PNTG/', file_size=23933, md5sum='cc1426b72c7bc25b3d04afd381841f5b', submitted_file_name='/home/ubuntu/igvf-catalog/data/samples/motifs/HOCOMOCOv11_core_annotation_HUMAN_mono.tsv.gz', upload_status='invalidated', validation_error_detail='{\"tabular_file_error\": [[172, 17, \"type-error\", \"type is \\\\\"integer/default\\\\\"\"]]}', source_url='https://hocomoco11.autosome.org/final_bundle/hocomoco11/core/HUMAN/mono/HOCOMOCOv11_core_annotation_HUMAN_mono.tsv', sources=None, external=False, external_id=None, id='/reference-files/IGVFFI0050HPJU/', type=['ReferenceFile', 'File', 'Item'], summary='motifs_proteins', integrated_in=[], input_file_for=[], gene_list_for=[], loci_list_for=[], href='/reference-files/IGVFFI0050HPJU/@@download/IGVFFI0050HPJU.tsv.gz', s3_uri='s3://igvf-files/2023/11/22/e8997e75-c091-488f-842d-fc81224b3f2d/IGVFFI0050HPJU.tsv.gz', upload_credentials=None)), SearchResultItem(actual_instance=TabularFile(controlled_access=False, anvil_url=None, assembly=None, release_timestamp=datetime.datetime(2024, 7, 10, 20, 27, 10, 105682, tzinfo=TzInfo(UTC)), file_format_type=None, transcriptome_annotation=None, documents=None, lab='/labs/jesse-engreitz/', award='/awards/HG011972/', accession='IGVFFI7335KPIM', alternate_accessions=None, collections=None, status='released', revoke_detail=None, schema_version='11', uuid='e43c4751-3e6d-48e2-bb6f-bc7abf870b1a', notes=None, aliases=['jesse-engreitz:auxiliary_sortparams_file_CRUDO_CCND1_Auxin0hrs-FF2'], creation_timestamp=datetime.datetime(2024, 7, 3, 0, 35, 18, 571782, tzinfo=TzInfo(UTC)), submitted_by='/users/100f06c6-83a7-4b4d-9dfd-053a1829773b/', submitter_comment=None, description=None, analysis_step_version=None, content_md5sum='1856f32ae66980eb4b5be7bbd7bb5962', content_type='sample sort parameters', dbxrefs=None, derived_from=None, file_format='tsv', file_format_specifications=None, file_set='/auxiliary-sets/IGVFDS1549RKIJ/', file_size=491, md5sum='286bbdfcd77193171f6aa68d2b03b7d1', submitted_file_name='/oak/stanford/groups/engreitz/Projects/Cohesin/240410_IGVF_upload/sortparams2/220307B014_3.tsv.gz', upload_status='validated', validation_error_detail=None, id='/tabular-files/IGVFFI7335KPIM/', type=['TabularFile', 'File', 'Item'], summary='sample sort parameters', integrated_in=[], input_file_for=[], gene_list_for=[], loci_list_for=[], href='/tabular-files/IGVFFI7335KPIM/@@download/IGVFFI7335KPIM.tsv.gz', s3_uri='s3://igvf-files/2024/07/03/e43c4751-3e6d-48e2-bb6f-bc7abf870b1a/IGVFFI7335KPIM.tsv.gz', upload_credentials=None)), SearchResultItem(actual_instance=TabularFile(controlled_access=False, anvil_url=None, assembly='GRCh38', release_timestamp=datetime.datetime(2024, 7, 10, 21, 20, 0, 572370, tzinfo=TzInfo(UTC)), file_format_type=None, transcriptome_annotation=None, documents=None, lab='/labs/jesse-engreitz/', award='/awards/HG011972/', accession='IGVFFI4981YFMT', alternate_accessions=None, collections=None, status='released', revoke_detail=None, schema_version='11', uuid='dfa2bacd-669c-4c2e-9c36-a741f2667f4c', notes=None, aliases=['jesse-engreitz:guidedesign_file_CRUDO_PILOT_CCND1'], creation_timestamp=datetime.datetime(2024, 5, 31, 4, 27, 35, 391546, tzinfo=TzInfo(UTC)), submitted_by='/users/100f06c6-83a7-4b4d-9dfd-053a1829773b/', submitter_comment=None, description=None, analysis_step_version=None, content_md5sum='d936ecdcd018d8299911f727b38e0216', content_type='guide RNA sequences', dbxrefs=None, derived_from=None, file_format='tsv', file_format_specifications=None, file_set='/curated-sets/IGVFDS9568KBCA/', file_size=67464, md5sum='b39cfc71cb09fcab01271bd4cdb8c2f0', submitted_file_name='/oak/stanford/groups/engreitz/Projects/Cohesin/240410_IGVF_upload/gRNA_design_files/Pilot_210311_CohesinFlowFISH.design.liftOver.txt.gz', upload_status='validated', validation_error_detail=None, id='/tabular-files/IGVFFI4981YFMT/', type=['TabularFile', 'File', 'Item'], summary='GRCh38 guide RNA sequences', integrated_in=['/construct-library-sets/IGVFDS0392OWNZ/'], input_file_for=[], gene_list_for=[], loci_list_for=[], href='/tabular-files/IGVFFI4981YFMT/@@download/IGVFFI4981YFMT.tsv.gz', s3_uri='s3://igvf-files/2024/05/31/dfa2bacd-669c-4c2e-9c36-a741f2667f4c/IGVFFI4981YFMT.tsv.gz', upload_credentials=None)), SearchResultItem(actual_instance=TabularFile(controlled_access=False, anvil_url=None, assembly=None, release_timestamp=datetime.datetime(2024, 7, 10, 20, 30, 1, 741515, tzinfo=TzInfo(UTC)), file_format_type=None, transcriptome_annotation=None, documents=None, lab='/labs/jesse-engreitz/', award='/awards/HG011972/', accession='IGVFFI8558XTCT', alternate_accessions=None, collections=None, status='released', revoke_detail=None, schema_version='11', uuid='dbdaaf18-e12c-4200-8e61-400796c3e6bf', notes=None, aliases=['jesse-engreitz:auxiliary_sortparams_file_CRUDO_SSFA2-Auxin6hrs-FF1'], creation_timestamp=datetime.datetime(2024, 7, 3, 0, 36, 5, 896121, tzinfo=TzInfo(UTC)), submitted_by='/users/100f06c6-83a7-4b4d-9dfd-053a1829773b/', submitter_comment=None, description=None, analysis_step_version=None, content_md5sum='4920a3d9563ecde7a8f6588823979816', content_type='sample sort parameters', dbxrefs=None, derived_from=None, file_format='tsv', file_format_specifications=None, file_set='/auxiliary-sets/IGVFDS6020CDHF/', file_size=478, md5sum='c4ebf2a4b57b35c8a8df89898f72536c', submitted_file_name='/oak/stanford/groups/engreitz/Projects/Cohesin/240410_IGVF_upload/sortparams2/220307B014_14.ssfa2.tsv.gz', upload_status='validated', validation_error_detail=None, id='/tabular-files/IGVFFI8558XTCT/', type=['TabularFile', 'File', 'Item'], summary='sample sort parameters', integrated_in=[], input_file_for=[], gene_list_for=[], loci_list_for=[], href='/tabular-files/IGVFFI8558XTCT/@@download/IGVFFI8558XTCT.tsv.gz', s3_uri='s3://igvf-files/2024/07/03/dbdaaf18-e12c-4200-8e61-400796c3e6bf/IGVFFI8558XTCT.tsv.gz', upload_credentials=None)), SearchResultItem(actual_instance=TabularFile(controlled_access=False, anvil_url=None, assembly=None, release_timestamp=datetime.datetime(2024, 7, 10, 20, 27, 39, 822956, tzinfo=TzInfo(UTC)), file_format_type=None, transcriptome_annotation=None, documents=None, lab='/labs/jesse-engreitz/', award='/awards/HG011972/', accession='IGVFFI5342EBSX', alternate_accessions=None, collections=None, status='released', revoke_detail=None, schema_version='11', uuid='d80e1efc-f908-495b-9e21-7eebdcb3a62d', notes=None, aliases=['jesse-engreitz:auxiliary_sortparams_file_CRUDO_FAM3C_Auxin0hrs-FF2'], creation_timestamp=datetime.datetime(2024, 7, 3, 0, 35, 28, 413781, tzinfo=TzInfo(UTC)), submitted_by='/users/100f06c6-83a7-4b4d-9dfd-053a1829773b/', submitter_comment=None, description=None, analysis_step_version=None, content_md5sum='e076b36b5364405be876d862d353317e', content_type='sample sort parameters', dbxrefs=None, derived_from=None, file_format='tsv', file_format_specifications=None, file_set='/auxiliary-sets/IGVFDS0713EITK/', file_size=491, md5sum='3e32385d1de4371790fb83225429470a', submitted_file_name='/oak/stanford/groups/engreitz/Projects/Cohesin/240410_IGVF_upload/sortparams2/220307B014_6.fam3c.tsv.gz', upload_status='validated', validation_error_detail=None, id='/tabular-files/IGVFFI5342EBSX/', type=['TabularFile', 'File', 'Item'], summary='sample sort parameters', integrated_in=[], input_file_for=[], gene_list_for=[], loci_list_for=[], href='/tabular-files/IGVFFI5342EBSX/@@download/IGVFFI5342EBSX.tsv.gz', s3_uri='s3://igvf-files/2024/07/03/d80e1efc-f908-495b-9e21-7eebdcb3a62d/IGVFFI5342EBSX.tsv.gz', upload_credentials=None)), SearchResultItem(actual_instance=TabularFile(controlled_access=False, anvil_url=None, assembly=None, release_timestamp=datetime.datetime(2024, 7, 10, 20, 28, 16, 843162, tzinfo=TzInfo(UTC)), file_format_type=None, transcriptome_annotation=None, documents=None, lab='/labs/jesse-engreitz/', award='/awards/HG011972/', accession='IGVFFI6162WULK', alternate_accessions=None, collections=None, status='released', revoke_detail=None, schema_version='11', uuid='c82a6a65-b055-4b1c-b311-13189bebe0cd', notes=None, aliases=['jesse-engreitz:auxiliary_sortparams_file_CRUDO_KITLG-Auxin0hrs-FF3'], creation_timestamp=datetime.datetime(2024, 7, 3, 0, 35, 39, 395979, tzinfo=TzInfo(UTC)), submitted_by='/users/100f06c6-83a7-4b4d-9dfd-053a1829773b/', submitter_comment=None, description=None, analysis_step_version=None, content_md5sum='a1304cf4a89259ff65b1b7ed8bb0c02c', content_type='sample sort parameters', dbxrefs=None, derived_from=None, file_format='tsv', file_format_specifications=None, file_set='/auxiliary-sets/IGVFDS0329USVJ/', file_size=490, md5sum='eec1899885383fd227cd438f9f5e7df7', submitted_file_name='/oak/stanford/groups/engreitz/Projects/Cohesin/240410_IGVF_upload/sortparams2/220104B013_4.tsv.gz', upload_status='validated', validation_error_detail=None, id='/tabular-files/IGVFFI6162WULK/', type=['TabularFile', 'File', 'Item'], summary='sample sort parameters', integrated_in=[], input_file_for=[], gene_list_for=[], loci_list_for=[], href='/tabular-files/IGVFFI6162WULK/@@download/IGVFFI6162WULK.tsv.gz', s3_uri='s3://igvf-files/2024/07/03/c82a6a65-b055-4b1c-b311-13189bebe0cd/IGVFFI6162WULK.tsv.gz', upload_credentials=None)), SearchResultItem(actual_instance=ReferenceFile(controlled_access=False, anvil_url=None, assembly='GRCh38', release_timestamp=datetime.datetime(2023, 12, 7, 5, 50, 4, 262975, tzinfo=TzInfo(UTC)), file_format_type=None, transcriptome_annotation=None, documents=None, lab='/labs/j-michael-cherry/', award='/awards/HG012012/', accession='IGVFFI5724MMHI', alternate_accessions=None, collections=['IGVF_catalog_beta_v0.1'], status='released', revoke_detail=None, schema_version='14', uuid='c75e7dea-7c4d-4bae-a8de-32ea75b1d1ad', notes=None, aliases=None, creation_timestamp=datetime.datetime(2023, 11, 22, 21, 7, 55, 533229, tzinfo=TzInfo(UTC)), submitted_by='/users/6bae687f-b77a-46b9-af0e-a02c135cf42e/', submitter_comment=None, description=None, analysis_step_version=None, content_md5sum='dabe79c0d3797a6db12eb6f292a53195', content_type='studies_variants_phenotypes', dbxrefs=None, derived_from=None, file_format='tsv', file_format_specifications=None, file_set='/curated-sets/IGVFDS3516VXAI/', file_size=24463506542, md5sum='4421418012973c57f3c9bc690894fe88', submitted_file_name='v2g_scored_igvf.tsv.gz', upload_status='invalidated', validation_error_detail='{\"tabular_file_error\": [[1060, 10, \"type-error\", \"type is \\\\\"array/default\\\\\"\"], [1060, 11, \"type-error\", \"type is \\\\\"array/default\\\\\"\"], [1113, 10, \"type-error\", \"type is \\\\\"array/default\\\\\"\"], [1170, 10, \"type-error\", \"type is \\\\\"array/default\\\\\"\"], [1185, 10, \"type-error\", \"type is \\\\\"array/default\\\\\"\"], [1374, 10, \"type-error\", \"type is \\\\\"array/default\\\\\"\"], [1458, 10, \"type-error\", \"type is \\\\\"array/default\\\\\"\"], [1503, 10, \"type-error\", \"type is \\\\\"array/default\\\\\"\"], [1546, 10, \"type-error\", \"type is \\\\\"array/default\\\\\"\"], [1587, 10, \"type-error\", \"type is \\\\\"array/default\\\\\"\"]]}', source_url='https://genetics.opentargets.org', sources=None, external=False, external_id=None, id='/reference-files/IGVFFI5724MMHI/', type=['ReferenceFile', 'File', 'Item'], summary='GRCh38 studies_variants_phenotypes', integrated_in=[], input_file_for=[], gene_list_for=[], loci_list_for=[], href='/reference-files/IGVFFI5724MMHI/@@download/IGVFFI5724MMHI.tsv.gz', s3_uri='s3://igvf-files/2023/11/22/c75e7dea-7c4d-4bae-a8de-32ea75b1d1ad/IGVFFI5724MMHI.tsv.gz', upload_credentials=None)), SearchResultItem(actual_instance=TabularFile(controlled_access=False, anvil_url=None, assembly=None, release_timestamp=datetime.datetime(2024, 7, 10, 21, 20, 4, 81576, tzinfo=TzInfo(UTC)), file_format_type=None, transcriptome_annotation=None, documents=None, lab='/labs/jesse-engreitz/', award='/awards/HG011972/', accession='IGVFFI5130EWUZ', alternate_accessions=None, collections=None, status='released', revoke_detail=None, schema_version='11', uuid='bfa93894-caf0-4a25-a3fb-6608e6d95aa4', notes=None, aliases=['jesse-engreitz:guidedesign_file_CRUDO_SSFA2'], creation_timestamp=datetime.datetime(2024, 5, 31, 4, 27, 50, 552558, tzinfo=TzInfo(UTC)), submitted_by='/users/100f06c6-83a7-4b4d-9dfd-053a1829773b/', submitter_comment=None, description=None, analysis_step_version=None, content_md5sum='c684dff0a0aaf32e887fcd21d22eb5e1', content_type='guide RNA sequences', dbxrefs=None, derived_from=None, file_format='tsv', file_format_specifications=None, file_set='/curated-sets/IGVFDS9221PQQC/', file_size=32781, md5sum='9968feb1a05572c8b51469a7ae95115c', submitted_file_name='/oak/stanford/groups/engreitz/Projects/Cohesin/240410_IGVF_upload/gRNA_design_files/210213_CohesinFlowFISH_SSFA2.design.liftOver.txt.gz', upload_status='validated', validation_error_detail=None, id='/tabular-files/IGVFFI5130EWUZ/', type=['TabularFile', 'File', 'Item'], summary='guide RNA sequences', integrated_in=['/construct-library-sets/IGVFDS5413RKIA/'], input_file_for=[], gene_list_for=[], loci_list_for=[], href='/tabular-files/IGVFFI5130EWUZ/@@download/IGVFFI5130EWUZ.tsv.gz', s3_uri='s3://igvf-files/2024/05/31/bfa93894-caf0-4a25-a3fb-6608e6d95aa4/IGVFFI5130EWUZ.tsv.gz', upload_credentials=None)), SearchResultItem(actual_instance=TabularFile(controlled_access=False, anvil_url=None, assembly=None, release_timestamp=datetime.datetime(2024, 7, 10, 20, 27, 31, 824530, tzinfo=TzInfo(UTC)), file_format_type=None, transcriptome_annotation=None, documents=None, lab='/labs/jesse-engreitz/', award='/awards/HG011972/', accession='IGVFFI2396MZVU', alternate_accessions=None, collections=None, status='released', revoke_detail=None, schema_version='11', uuid='b4e406c2-754d-40de-b1d2-1f9f91e9d9ec', notes=None, aliases=['jesse-engreitz:auxiliary_sortparams_file_CRUDO_FAM3C_Auxin0hrs-FF1'], creation_timestamp=datetime.datetime(2024, 7, 3, 0, 35, 25, 899307, tzinfo=TzInfo(UTC)), submitted_by='/users/100f06c6-83a7-4b4d-9dfd-053a1829773b/', submitter_comment=None, description=None, analysis_step_version=None, content_md5sum='f24b06b30aadeb6ba49fb4c479ead43c', content_type='sample sort parameters', dbxrefs=None, derived_from=None, file_format='tsv', file_format_specifications=None, file_set='/auxiliary-sets/IGVFDS7833JNUC/', file_size=466, md5sum='7a8302c15ecec2e8991269ef533fde86', submitted_file_name='/oak/stanford/groups/engreitz/Projects/Cohesin/240410_IGVF_upload/sortparams/220307B014_2.fam3c.tsv.gz', upload_status='validated', validation_error_detail=None, id='/tabular-files/IGVFFI2396MZVU/', type=['TabularFile', 'File', 'Item'], summary='sample sort parameters', integrated_in=[], input_file_for=[], gene_list_for=[], loci_list_for=[], href='/tabular-files/IGVFFI2396MZVU/@@download/IGVFFI2396MZVU.tsv.gz', s3_uri='s3://igvf-files/2024/07/03/b4e406c2-754d-40de-b1d2-1f9f91e9d9ec/IGVFFI2396MZVU.tsv.gz', upload_credentials=None)), SearchResultItem(actual_instance=TabularFile(controlled_access=False, anvil_url=None, assembly=None, release_timestamp=datetime.datetime(2024, 7, 10, 20, 28, 36, 962259, tzinfo=TzInfo(UTC)), file_format_type=None, transcriptome_annotation=None, documents=None, lab='/labs/jesse-engreitz/', award='/awards/HG011972/', accession='IGVFFI9594ERWN', alternate_accessions=None, collections=None, status='released', revoke_detail=None, schema_version='11', uuid='b35bafcf-4d36-4681-b2ec-124e1c299a8b', notes=None, aliases=['jesse-engreitz:auxiliary_sortparams_file_CRUDO_KITLG-Auxin6hrs-FF2'], creation_timestamp=datetime.datetime(2024, 7, 3, 0, 35, 45, 975770, tzinfo=TzInfo(UTC)), submitted_by='/users/100f06c6-83a7-4b4d-9dfd-053a1829773b/', submitter_comment=None, description=None, analysis_step_version=None, content_md5sum='766147a20621e917bcb6e94760e89e5e', content_type='sample sort parameters', dbxrefs=None, derived_from=None, file_format='tsv', file_format_specifications=None, file_set='/auxiliary-sets/IGVFDS8781ZUPM/', file_size=492, md5sum='0b3ac6947e668ea50dc802d84ae92d63', submitted_file_name='/oak/stanford/groups/engreitz/Projects/Cohesin/240410_IGVF_upload/sortparams2/220104B013_19.tsv.gz', upload_status='validated', validation_error_detail=None, id='/tabular-files/IGVFFI9594ERWN/', type=['TabularFile', 'File', 'Item'], summary='sample sort parameters', integrated_in=[], input_file_for=[], gene_list_for=[], loci_list_for=[], href='/tabular-files/IGVFFI9594ERWN/@@download/IGVFFI9594ERWN.tsv.gz', s3_uri='s3://igvf-files/2024/07/03/b35bafcf-4d36-4681-b2ec-124e1c299a8b/IGVFFI9594ERWN.tsv.gz', upload_credentials=None)), SearchResultItem(actual_instance=TabularFile(controlled_access=False, anvil_url=None, assembly=None, release_timestamp=datetime.datetime(2024, 7, 10, 20, 29, 15, 243262, tzinfo=TzInfo(UTC)), file_format_type=None, transcriptome_annotation=None, documents=None, lab='/labs/jesse-engreitz/', award='/awards/HG011972/', accession='IGVFFI6885TVYB', alternate_accessions=None, collections=None, status='released', revoke_detail=None, schema_version='11', uuid='aea45968-2c8a-4191-b450-ef5c3bf34e23', notes=None, aliases=['jesse-engreitz:auxiliary_sortparams_file_CRUDO_MYC-Auxin6hrs-FF1'], creation_timestamp=datetime.datetime(2024, 7, 3, 0, 35, 56, 967223, tzinfo=TzInfo(UTC)), submitted_by='/users/100f06c6-83a7-4b4d-9dfd-053a1829773b/', submitter_comment=None, description=None, analysis_step_version=None, content_md5sum='5095a53856960e3bc16142d91567fe88', content_type='sample sort parameters', dbxrefs=None, derived_from=None, file_format='tsv', file_format_specifications=None, file_set='/auxiliary-sets/IGVFDS9055BZJI/', file_size=482, md5sum='8c17047362b3a09220e6bf1e11f017ae', submitted_file_name='/oak/stanford/groups/engreitz/Projects/Cohesin/240410_IGVF_upload/sortparams2/20829B015_13.tsv.gz', upload_status='validated', validation_error_detail=None, id='/tabular-files/IGVFFI6885TVYB/', type=['TabularFile', 'File', 'Item'], summary='sample sort parameters', integrated_in=[], input_file_for=[], gene_list_for=[], loci_list_for=[], href='/tabular-files/IGVFFI6885TVYB/@@download/IGVFFI6885TVYB.tsv.gz', s3_uri='s3://igvf-files/2024/07/03/aea45968-2c8a-4191-b450-ef5c3bf34e23/IGVFFI6885TVYB.tsv.gz', upload_credentials=None)), SearchResultItem(actual_instance=TabularFile(controlled_access=False, anvil_url=None, assembly=None, release_timestamp=datetime.datetime(2024, 7, 10, 20, 29, 53, 12712, tzinfo=TzInfo(UTC)), file_format_type=None, transcriptome_annotation=None, documents=None, lab='/labs/jesse-engreitz/', award='/awards/HG011972/', accession='IGVFFI5802FOEM', alternate_accessions=None, collections=None, status='released', revoke_detail=None, schema_version='11', uuid='a5485738-c43c-4ff1-ac8f-0ddddeafd5a1', notes=None, aliases=['jesse-engreitz:auxiliary_sortparams_file_CRUDO_SSFA2-Auxin0hrs-FF2'], creation_timestamp=datetime.datetime(2024, 7, 3, 0, 36, 3, 549652, tzinfo=TzInfo(UTC)), submitted_by='/users/100f06c6-83a7-4b4d-9dfd-053a1829773b/', submitter_comment=None, description=None, analysis_step_version=None, content_md5sum='dbe11b06411512cfa708f7f763ee3299', content_type='sample sort parameters', dbxrefs=None, derived_from=None, file_format='tsv', file_format_specifications=None, file_set='/auxiliary-sets/IGVFDS4597CMXX/', file_size=481, md5sum='df2cf2bea9d37d0452edfa661ab8474b', submitted_file_name='/oak/stanford/groups/engreitz/Projects/Cohesin/240410_IGVF_upload/sortparams2/220307B014_8.ssfa2.tsv.gz', upload_status='validated', validation_error_detail=None, id='/tabular-files/IGVFFI5802FOEM/', type=['TabularFile', 'File', 'Item'], summary='sample sort parameters', integrated_in=[], input_file_for=[], gene_list_for=[], loci_list_for=[], href='/tabular-files/IGVFFI5802FOEM/@@download/IGVFFI5802FOEM.tsv.gz', s3_uri='s3://igvf-files/2024/07/03/a5485738-c43c-4ff1-ac8f-0ddddeafd5a1/IGVFFI5802FOEM.tsv.gz', upload_credentials=None)), SearchResultItem(actual_instance=TabularFile(controlled_access=False, anvil_url=None, assembly=None, release_timestamp=datetime.datetime(2024, 7, 10, 20, 29, 23, 737887, tzinfo=TzInfo(UTC)), file_format_type=None, transcriptome_annotation=None, documents=None, lab='/labs/jesse-engreitz/', award='/awards/HG011972/', accession='IGVFFI9629PGSJ', alternate_accessions=None, collections=None, status='released', revoke_detail=None, schema_version='11', uuid='a30602ee-d96b-4fd9-829d-6de661d85f68', notes=None, aliases=['jesse-engreitz:auxiliary_sortparams_file_CRUDO_MYC-Auxin6hrs-FF2'], creation_timestamp=datetime.datetime(2024, 7, 3, 0, 35, 59, 89566, tzinfo=TzInfo(UTC)), submitted_by='/users/100f06c6-83a7-4b4d-9dfd-053a1829773b/', submitter_comment=None, description=None, analysis_step_version=None, content_md5sum='10cae2d09ad9d0cd73de32bb1bfee8da', content_type='sample sort parameters', dbxrefs=None, derived_from=None, file_format='tsv', file_format_specifications=None, file_set='/auxiliary-sets/IGVFDS5394TNHK/', file_size=486, md5sum='7b43f019f0bdaf2754a47417d4ba36df', submitted_file_name='/oak/stanford/groups/engreitz/Projects/Cohesin/240410_IGVF_upload/sortparams2/20829B015_19.tsv.gz', upload_status='validated', validation_error_detail=None, id='/tabular-files/IGVFFI9629PGSJ/', type=['TabularFile', 'File', 'Item'], summary='sample sort parameters', integrated_in=[], input_file_for=[], gene_list_for=[], loci_list_for=[], href='/tabular-files/IGVFFI9629PGSJ/@@download/IGVFFI9629PGSJ.tsv.gz', s3_uri='s3://igvf-files/2024/07/03/a30602ee-d96b-4fd9-829d-6de661d85f68/IGVFFI9629PGSJ.tsv.gz', upload_credentials=None)), SearchResultItem(actual_instance=TabularFile(controlled_access=False, anvil_url=None, assembly=None, release_timestamp=datetime.datetime(2024, 7, 10, 20, 28, 45, 346043, tzinfo=TzInfo(UTC)), file_format_type=None, transcriptome_annotation=None, documents=None, lab='/labs/jesse-engreitz/', award='/awards/HG011972/', accession='IGVFFI4981TMMD', alternate_accessions=None, collections=None, status='released', revoke_detail=None, schema_version='11', uuid='a1a61005-f422-4263-8068-1f6eabd609d0', notes=None, aliases=['jesse-engreitz:auxiliary_sortparams_file_CRUDO_KITLG-Auxin6hrs-FF3'], creation_timestamp=datetime.datetime(2024, 7, 3, 0, 35, 48, 95480, tzinfo=TzInfo(UTC)), submitted_by='/users/100f06c6-83a7-4b4d-9dfd-053a1829773b/', submitter_comment=None, description=None, analysis_step_version=None, content_md5sum='febc23cb4fff952773572e5f05082822', content_type='sample sort parameters', dbxrefs=None, derived_from=None, file_format='tsv', file_format_specifications=None, file_set='/auxiliary-sets/IGVFDS7947IZNE/', file_size=480, md5sum='efb4ab02b0fda058f8e24265d7867424', submitted_file_name='/oak/stanford/groups/engreitz/Projects/Cohesin/240410_IGVF_upload/sortparams2/220104B013_16.tsv.gz', upload_status='validated', validation_error_detail=None, id='/tabular-files/IGVFFI4981TMMD/', type=['TabularFile', 'File', 'Item'], summary='sample sort parameters', integrated_in=[], input_file_for=[], gene_list_for=[], loci_list_for=[], href='/tabular-files/IGVFFI4981TMMD/@@download/IGVFFI4981TMMD.tsv.gz', s3_uri='s3://igvf-files/2024/07/03/a1a61005-f422-4263-8068-1f6eabd609d0/IGVFFI4981TMMD.tsv.gz', upload_credentials=None)), SearchResultItem(actual_instance=ReferenceFile(controlled_access=False, anvil_url=None, assembly=None, release_timestamp=datetime.datetime(2023, 12, 7, 5, 50, 1, 726543, tzinfo=TzInfo(UTC)), file_format_type=None, transcriptome_annotation=None, documents=None, lab='/labs/j-michael-cherry/', award='/awards/HG012012/', accession='IGVFFI2997DUKO', alternate_accessions=None, collections=['IGVF_catalog_beta_v0.1'], status='released', revoke_detail=None, schema_version='14', uuid='a08ffed0-1c89-4a56-81b8-9b382e90703c', notes=None, aliases=None, creation_timestamp=datetime.datetime(2023, 11, 22, 22, 8, 17, 914571, tzinfo=TzInfo(UTC)), submitted_by='/users/6bae687f-b77a-46b9-af0e-a02c135cf42e/', submitter_comment=None, description=None, analysis_step_version=None, content_md5sum='f4c99133f75b02dc760c87b59cf808a5', content_type='drugs', dbxrefs=None, derived_from=None, file_format='tsv', file_format_specifications=None, file_set='/curated-sets/IGVFDS3509VPYM/', file_size=772512, md5sum='a71cf69a4456d07305aa3322838ab9aa', submitted_file_name='/home/ubuntu/igvf-catalog-shengcheng/data/data_loading_support_files/pharmGKB_chemicals.tsv.gz', upload_status='invalidated', validation_error_detail='{\"tabular_file_error\": [[6, 16, \"missing-cell\", \"\"], [6, 17, \"missing-cell\", \"\"], [6, 18, \"missing-cell\", \"\"], [6, 19, \"missing-cell\", \"\"], [6, 20, \"missing-cell\", \"\"], [6, 21, \"missing-cell\", \"\"], [6, 22, \"missing-cell\", \"\"], [6, 23, \"missing-cell\", \"\"], [6, 24, \"missing-cell\", \"\"], [10, 16, \"missing-cell\", \"\"]]}', source_url='https://api.pharmgkb.org/v1/download/file/data/chemicals.zip', sources=None, external=False, external_id=None, id='/reference-files/IGVFFI2997DUKO/', type=['ReferenceFile', 'File', 'Item'], summary='drugs', integrated_in=[], input_file_for=[], gene_list_for=[], loci_list_for=[], href='/reference-files/IGVFFI2997DUKO/@@download/IGVFFI2997DUKO.tsv.gz', s3_uri='s3://igvf-files/2023/11/22/a08ffed0-1c89-4a56-81b8-9b382e90703c/IGVFFI2997DUKO.tsv.gz', upload_credentials=None)), SearchResultItem(actual_instance=ReferenceFile(controlled_access=False, anvil_url=None, assembly='GRCh38', release_timestamp=datetime.datetime(2023, 12, 7, 5, 49, 40, 632314, tzinfo=TzInfo(UTC)), file_format_type=None, transcriptome_annotation=None, documents=None, lab='/labs/j-michael-cherry/', award='/awards/HG012012/', accession='IGVFFI8825WTII', alternate_accessions=None, collections=['IGVF_catalog_beta_v0.1'], status='released', revoke_detail=None, schema_version='14', uuid='93fee3e8-0ee1-4f73-92d1-8c22b406cb46', notes='Manually mapped ontology file by Shengcheng. Need to update file_format to tsv.', aliases=None, creation_timestamp=datetime.datetime(2023, 11, 2, 16, 49, 39, 70986, tzinfo=TzInfo(UTC)), submitted_by='/users/6bae687f-b77a-46b9-af0e-a02c135cf42e/', submitter_comment=None, description=None, analysis_step_version=None, content_md5sum='b93496db518a248a49e1850b49ba1a70', content_type='ontology_terms', dbxrefs=None, derived_from=None, file_format='tsv', file_format_specifications=None, file_set='/curated-sets/IGVFDS0056MEON/', file_size=21230, md5sum='a07dfa5637f02ec2b527040b53b839d0', submitted_file_name='ADASTRA_cell_ontologies_mapped_ids.tsv.gz', upload_status='validated', validation_error_detail=None, source_url=None, sources=None, external=False, external_id=None, id='/reference-files/IGVFFI8825WTII/', type=['ReferenceFile', 'File', 'Item'], summary='GRCh38 ontology_terms', integrated_in=[], input_file_for=[], gene_list_for=[], loci_list_for=[], href='/reference-files/IGVFFI8825WTII/@@download/IGVFFI8825WTII.tsv.gz', s3_uri='s3://igvf-files/2023/11/02/93fee3e8-0ee1-4f73-92d1-8c22b406cb46/IGVFFI8825WTII.csv.gz', upload_credentials=None)), SearchResultItem(actual_instance=TabularFile(controlled_access=False, anvil_url=None, assembly=None, release_timestamp=datetime.datetime(2024, 7, 10, 20, 29, 8, 195938, tzinfo=TzInfo(UTC)), file_format_type=None, transcriptome_annotation=None, documents=None, lab='/labs/jesse-engreitz/', award='/awards/HG011972/', accession='IGVFFI3328SYVP', alternate_accessions=None, collections=None, status='released', revoke_detail=None, schema_version='11', uuid='92008390-87c3-49ce-aa43-9d55e32e4111', notes=None, aliases=['jesse-engreitz:auxiliary_sortparams_file_CRUDO_MYC-Auxin0hrs-FF2'], creation_timestamp=datetime.datetime(2024, 7, 3, 0, 35, 54, 815980, tzinfo=TzInfo(UTC)), submitted_by='/users/100f06c6-83a7-4b4d-9dfd-053a1829773b/', submitter_comment=None, description=None, analysis_step_version=None, content_md5sum='85cfe25bbded26e776303af67e7699ad', content_type='sample sort parameters', dbxrefs=None, derived_from=None, file_format='tsv', file_format_specifications=None, file_set='/auxiliary-sets/IGVFDS8214HXSU/', file_size=483, md5sum='714d2489e1ac236060cb46c5e25e9d20', submitted_file_name='/oak/stanford/groups/engreitz/Projects/Cohesin/240410_IGVF_upload/sortparams2/20829B015_7.tsv.gz', upload_status='validated', validation_error_detail=None, id='/tabular-files/IGVFFI3328SYVP/', type=['TabularFile', 'File', 'Item'], summary='sample sort parameters', integrated_in=[], input_file_for=[], gene_list_for=[], loci_list_for=[], href='/tabular-files/IGVFFI3328SYVP/@@download/IGVFFI3328SYVP.tsv.gz', s3_uri='s3://igvf-files/2024/07/03/92008390-87c3-49ce-aa43-9d55e32e4111/IGVFFI3328SYVP.tsv.gz', upload_credentials=None)), SearchResultItem(actual_instance=TabularFile(controlled_access=False, anvil_url=None, assembly='GRCh38', release_timestamp=datetime.datetime(2024, 7, 10, 21, 20, 1, 503885, tzinfo=TzInfo(UTC)), file_format_type=None, transcriptome_annotation=None, documents=None, lab='/labs/jesse-engreitz/', award='/awards/HG011972/', accession='IGVFFI6046CCXW', alternate_accessions=None, collections=None, status='released', revoke_detail=None, schema_version='11', uuid='855de124-b443-4b63-abd0-b44bbbbefb0c', notes=None, aliases=['jesse-engreitz:locus_file_CRUDO_CCND1'], creation_timestamp=datetime.datetime(2024, 5, 31, 21, 2, 41, 929558, tzinfo=TzInfo(UTC)), submitted_by='/users/100f06c6-83a7-4b4d-9dfd-053a1829773b/', submitter_comment=None, description=None, analysis_step_version=None, content_md5sum='b798ca50c05b42f2bd930d9d8e1605db', content_type='elements reference', dbxrefs=None, derived_from=None, file_format='tsv', file_format_specifications=None, file_set='/curated-sets/IGVFDS5400MDLF/', file_size=1338, md5sum='7ae6105af3711326b7b6d9cbbb96777a', submitted_file_name='/oak/stanford/groups/engreitz/Projects/Cohesin/240410_IGVF_upload/CCND1.large_scale_loci_list.bed.gz', upload_status='validated', validation_error_detail=None, id='/tabular-files/IGVFFI6046CCXW/', type=['TabularFile', 'File', 'Item'], summary='GRCh38 elements reference', integrated_in=[], input_file_for=[], gene_list_for=[], loci_list_for=['/construct-library-sets/IGVFDS6351FGNG/'], href='/tabular-files/IGVFFI6046CCXW/@@download/IGVFFI6046CCXW.tsv.gz', s3_uri='s3://igvf-files/2024/05/31/855de124-b443-4b63-abd0-b44bbbbefb0c/IGVFFI6046CCXW.tsv.gz', upload_credentials=None)), SearchResultItem(actual_instance=TabularFile(controlled_access=False, anvil_url=None, assembly='GRCh38', release_timestamp=datetime.datetime(2024, 7, 10, 21, 20, 4, 905389, tzinfo=TzInfo(UTC)), file_format_type=None, transcriptome_annotation=None, documents=None, lab='/labs/jesse-engreitz/', award='/awards/HG011972/', accession='IGVFFI4071JDLX', alternate_accessions=None, collections=None, status='released', revoke_detail=None, schema_version='11', uuid='8489a47c-8bee-4a4c-8eb0-06f32a41a003', notes=None, aliases=['jesse-engreitz:locus_file_CRUDO_FAM3C'], creation_timestamp=datetime.datetime(2024, 5, 31, 21, 2, 38, 988504, tzinfo=TzInfo(UTC)), submitted_by='/users/100f06c6-83a7-4b4d-9dfd-053a1829773b/', submitter_comment=None, description=None, analysis_step_version=None, content_md5sum='4118fe6341bce86ee39aa3c6a76f0ada', content_type='elements reference', dbxrefs=None, derived_from=None, file_format='tsv', file_format_specifications=None, file_set='/curated-sets/IGVFDS5125PDRQ/', file_size=877, md5sum='fa09218ed36b58921ab5273efad0db70', submitted_file_name='/oak/stanford/groups/engreitz/Projects/Cohesin/240410_IGVF_upload/FAM3C.large_scale_loci_list.bed.gz', upload_status='validated', validation_error_detail=None, id='/tabular-files/IGVFFI4071JDLX/', type=['TabularFile', 'File', 'Item'], summary='GRCh38 elements reference', integrated_in=[], input_file_for=[], gene_list_for=[], loci_list_for=['/construct-library-sets/IGVFDS1891GTLU/'], href='/tabular-files/IGVFFI4071JDLX/@@download/IGVFFI4071JDLX.tsv.gz', s3_uri='s3://igvf-files/2024/05/31/8489a47c-8bee-4a4c-8eb0-06f32a41a003/IGVFFI4071JDLX.tsv.gz', upload_credentials=None)), SearchResultItem(actual_instance=TabularFile(controlled_access=False, anvil_url=None, assembly=None, release_timestamp=datetime.datetime(2024, 7, 10, 20, 28, 10, 87073, tzinfo=TzInfo(UTC)), file_format_type=None, transcriptome_annotation=None, documents=None, lab='/labs/jesse-engreitz/', award='/awards/HG011972/', accession='IGVFFI5182VLZN', alternate_accessions=None, collections=None, status='released', revoke_detail=None, schema_version='11', uuid='840aa062-20de-423e-9c18-57d5e1be58f9', notes=None, aliases=['jesse-engreitz:auxiliary_sortparams_file_CRUDO_KITLG-Auxin0hrs-FF2'], creation_timestamp=datetime.datetime(2024, 7, 3, 0, 35, 37, 219464, tzinfo=TzInfo(UTC)), submitted_by='/users/100f06c6-83a7-4b4d-9dfd-053a1829773b/', submitter_comment=None, description=None, analysis_step_version=None, content_md5sum='7039b9c5f35fd07a708e16926f0c542e', content_type='sample sort parameters', dbxrefs=None, derived_from=None, file_format='tsv', file_format_specifications=None, file_set='/auxiliary-sets/IGVFDS4522DABT/', file_size=478, md5sum='7555ded9a0e473f99d4a24c7fd3729cc', submitted_file_name='/oak/stanford/groups/engreitz/Projects/Cohesin/240410_IGVF_upload/sortparams2/220104B013_3.tsv.gz', upload_status='validated', validation_error_detail=None, id='/tabular-files/IGVFFI5182VLZN/', type=['TabularFile', 'File', 'Item'], summary='sample sort parameters', integrated_in=[], input_file_for=[], gene_list_for=[], loci_list_for=[], href='/tabular-files/IGVFFI5182VLZN/@@download/IGVFFI5182VLZN.tsv.gz', s3_uri='s3://igvf-files/2024/07/03/840aa062-20de-423e-9c18-57d5e1be58f9/IGVFFI5182VLZN.tsv.gz', upload_credentials=None)), SearchResultItem(actual_instance=ReferenceFile(controlled_access=False, anvil_url=None, assembly='GRCh38', release_timestamp=datetime.datetime(2023, 12, 7, 5, 50, 3, 838808, tzinfo=TzInfo(UTC)), file_format_type=None, transcriptome_annotation=None, documents=None, lab='/labs/j-michael-cherry/', award='/awards/HG012012/', accession='IGVFFI1309WDQG', alternate_accessions=None, collections=['IGVF_catalog_beta_v0.1'], status='released', revoke_detail=None, schema_version='14', uuid='790c5853-959a-4675-8d0a-735958a571e7', notes=None, aliases=None, creation_timestamp=datetime.datetime(2023, 11, 22, 20, 47, 18, 110526, tzinfo=TzInfo(UTC)), submitted_by='/users/6bae687f-b77a-46b9-af0e-a02c135cf42e/', submitter_comment=None, description=None, analysis_step_version=None, content_md5sum='a75e7bc653b4458246668da4883fb23d', content_type='studies_variants_phenotypes', dbxrefs=None, derived_from=None, file_format='tsv', file_format_specifications=None, file_set='/curated-sets/IGVFDS3516VXAI/', file_size=1748150758, md5sum='8f47cedce6457087148a7c6ba17565a9', submitted_file_name='v2d_igvf.tsv.gz', upload_status='invalidated', validation_error_detail='{\"tabular_file_error\": [[238519, 5, \"type-error\", \"type is \\\\\"integer/default\\\\\"\"], [238519, 35, \"type-error\", \"type is \\\\\"integer/default\\\\\"\"], [238520, 5, \"type-error\", \"type is \\\\\"integer/default\\\\\"\"], [238520, 35, \"type-error\", \"type is \\\\\"integer/default\\\\\"\"], [238521, 5, \"type-error\", \"type is \\\\\"integer/default\\\\\"\"], [238521, 35, \"type-error\", \"type is \\\\\"integer/default\\\\\"\"], [238522, 5, \"type-error\", \"type is \\\\\"integer/default\\\\\"\"], [238522, 35, \"type-error\", \"type is \\\\\"integer/default\\\\\"\"], [238523, 5, \"type-error\", \"type is \\\\\"integer/default\\\\\"\"], [238523, 35, \"type-error\", \"type is \\\\\"integer/default\\\\\"\"]]}', source_url='https://genetics.opentargets.org', sources=None, external=False, external_id=None, id='/reference-files/IGVFFI1309WDQG/', type=['ReferenceFile', 'File', 'Item'], summary='GRCh38 studies_variants_phenotypes', integrated_in=[], input_file_for=[], gene_list_for=[], loci_list_for=[], href='/reference-files/IGVFFI1309WDQG/@@download/IGVFFI1309WDQG.tsv.gz', s3_uri='s3://igvf-files/2023/11/22/790c5853-959a-4675-8d0a-735958a571e7/IGVFFI1309WDQG.tsv.gz', upload_credentials=None)), SearchResultItem(actual_instance=ReferenceFile(controlled_access=False, anvil_url=None, assembly=None, release_timestamp=datetime.datetime(2023, 12, 7, 5, 50, 0, 872253, tzinfo=TzInfo(UTC)), file_format_type=None, transcriptome_annotation=None, documents=None, lab='/labs/j-michael-cherry/', award='/awards/HG012012/', accession='IGVFFI1444TRQL', alternate_accessions=None, collections=['IGVF_catalog_beta_v0.1'], status='released', revoke_detail=None, schema_version='14', uuid='76d2da57-2616-4d64-8b09-23b172458b53', notes=None, aliases=None, creation_timestamp=datetime.datetime(2023, 11, 8, 8, 46, 18, 752177, tzinfo=TzInfo(UTC)), submitted_by='/users/6bae687f-b77a-46b9-af0e-a02c135cf42e/', submitter_comment=None, description=None, analysis_step_version=None, content_md5sum='f8735d7891c06369951969c1f4014eba', content_type='complexes', dbxrefs=None, derived_from=None, file_format='tsv', file_format_specifications=None, file_set='/curated-sets/IGVFDS3738IOGO/', file_size=620838, md5sum='d9d7b306cc11db205a0c68e09a5377e2', submitted_file_name='EBI_complex_proteins_9606.tsv.gz', upload_status='validated', validation_error_detail=None, source_url='http://ftp.ebi.ac.uk/pub/databases/intact/complex/current/complextab/9606.tsv', sources=None, external=False, external_id=None, id='/reference-files/IGVFFI1444TRQL/', type=['ReferenceFile', 'File', 'Item'], summary='complexes', integrated_in=[], input_file_for=[], gene_list_for=[], loci_list_for=[], href='/reference-files/IGVFFI1444TRQL/@@download/IGVFFI1444TRQL.tsv.gz', s3_uri='s3://igvf-files/2023/11/08/76d2da57-2616-4d64-8b09-23b172458b53/IGVFFI1444TRQL.csv.gz', upload_credentials=None))], id='/search?type=File&file_format=tsv&frame=object', type=['Search'], total=48, facets=[SearchFacet(var_field='type', title='Object Type', terms=[{'key': 'File', 'doc_count': 48}, {'key': 'Item', 'doc_count': 48}, {'key': 'TabularFile', 'doc_count': 38}, {'key': 'ReferenceFile', 'doc_count': 10}]), SearchFacet(var_field='award.component', title='Award', terms=[{'key': 'functional characterization', 'doc_count': 38}, {'key': 'data coordination', 'doc_count': 10}]), SearchFacet(var_field='collections', title='Collections', terms=[{'key': 'IGVF_catalog_beta_v0.1', 'doc_count': 10}]), SearchFacet(var_field='content_type', title='Content Type', terms=[{'key': 'sample sort parameters', 'doc_count': 26}, {'key': 'guide RNA sequences', 'doc_count': 7}, {'key': 'elements reference', 'doc_count': 5}, {'key': 'studies_variants_phenotypes', 'doc_count': 2}, {'key': 'variants_drugs', 'doc_count': 2}, {'key': 'complexes', 'doc_count': 1}, {'key': 'drugs', 'doc_count': 1}, {'key': 'genes', 'doc_count': 1}, {'key': 'motifs_proteins', 'doc_count': 1}, {'key': 'ontology_terms', 'doc_count': 1}, {'key': 'variants_drugs_genes', 'doc_count': 1}]), SearchFacet(var_field='file_format', title='File Format', terms=[{'key': 'fastq', 'doc_count': 9246}, {'key': 'yaml', 'doc_count': 767}, {'key': 'bed', 'doc_count': 442}, {'key': 'csv', 'doc_count': 191}, {'key': 'tsv', 'doc_count': 48}, {'key': 'vcf', 'doc_count': 24}, {'key': 'txt', 'doc_count': 16}, {'key': 'owl', 'doc_count': 11}, {'key': 'pod5', 'doc_count': 11}, {'key': 'bigWig', 'doc_count': 7}, {'key': 'tar', 'doc_count': 6}, {'key': 'gaf', 'doc_count': 4}, {'key': 'dat', 'doc_count': 2}, {'key': 'fasta', 'doc_count': 2}, {'key': 'gtf', 'doc_count': 2}, {'key': 'obo', 'doc_count': 2}, {'key': 'xml', 'doc_count': 1}]), SearchFacet(var_field='lab.title', title='Lab', terms=[{'key': 'Jesse Engreitz, Stanford', 'doc_count': 38}, {'key': 'J. Michael Cherry, Stanford', 'doc_count': 10}]), SearchFacet(var_field='status', title='Status', terms=[{'key': 'released', 'doc_count': 48}]), SearchFacet(var_field='upload_status', title='Upload Status', terms=[{'key': 'validated', 'doc_count': 42}, {'key': 'invalidated', 'doc_count': 6}]), SearchFacet(var_field='audit.ERROR.category', title='Audit category: ERROR', terms=[{'key': 'upload status not validated', 'doc_count': 6}])])"
      ]
     },
     "execution_count": 52,
     "metadata": {},
     "output_type": "execute_result"
    }
   ],
   "source": [
    "results = api.search(type=['File'], field_filters={'file_format': 'tsv'})\n",
    "results"
   ]
  },
  {
   "cell_type": "code",
   "execution_count": 53,
   "id": "88bce272-efab-4b03-8010-093d2a5a79b9",
   "metadata": {},
   "outputs": [
    {
     "data": {
      "text/plain": [
       "48"
      ]
     },
     "execution_count": 53,
     "metadata": {},
     "output_type": "execute_result"
    }
   ],
   "source": [
    "results.total"
   ]
  },
  {
   "cell_type": "code",
   "execution_count": 56,
   "id": "a6702326-6ed5-4a77-909a-f70b7ceb6d74",
   "metadata": {},
   "outputs": [
    {
     "data": {
      "text/plain": [
       "SearchResultItem(actual_instance=TabularFile(controlled_access=False, anvil_url=None, assembly='GRCh38', release_timestamp=datetime.datetime(2024, 7, 10, 21, 20, 3, 378713, tzinfo=TzInfo(UTC)), file_format_type=None, transcriptome_annotation=None, documents=None, lab='/labs/jesse-engreitz/', award='/awards/HG011972/', accession='IGVFFI8092FZKL', alternate_accessions=None, collections=None, status='released', revoke_detail=None, schema_version='11', uuid='fdbdc159-e5b9-40a8-b788-3f72c9886b03', notes=None, aliases=['jesse-engreitz:locus_file_CRUDO_MYC'], creation_timestamp=datetime.datetime(2024, 5, 31, 21, 2, 44, 602697, tzinfo=TzInfo(UTC)), submitted_by='/users/100f06c6-83a7-4b4d-9dfd-053a1829773b/', submitter_comment=None, description=None, analysis_step_version=None, content_md5sum='4aa6e40c55b54a3cc40d1cb1ef9093a3', content_type='elements reference', dbxrefs=None, derived_from=None, file_format='tsv', file_format_specifications=None, file_set='/curated-sets/IGVFDS2476WFVW/', file_size=4732, md5sum='ea8051cc2571447ca8f413aa99a4764a', submitted_file_name='/oak/stanford/groups/engreitz/Projects/Cohesin/240410_IGVF_upload/MYC.large_scale_loci_list.bed.gz', upload_status='validated', validation_error_detail=None, id='/tabular-files/IGVFFI8092FZKL/', type=['TabularFile', 'File', 'Item'], summary='GRCh38 elements reference', integrated_in=[], input_file_for=[], gene_list_for=[], loci_list_for=['/construct-library-sets/IGVFDS7857SYCK/'], href='/tabular-files/IGVFFI8092FZKL/@@download/IGVFFI8092FZKL.tsv.gz', s3_uri='s3://igvf-files/2024/05/31/fdbdc159-e5b9-40a8-b788-3f72c9886b03/IGVFFI8092FZKL.tsv.gz', upload_credentials=None))"
      ]
     },
     "execution_count": 56,
     "metadata": {},
     "output_type": "execute_result"
    }
   ],
   "source": [
    "tsv_file = results.graph[0]\n",
    "tsv_file"
   ]
  },
  {
   "cell_type": "code",
   "execution_count": 58,
   "id": "5ed8198a-7d9b-43b4-870e-4c7e8f277193",
   "metadata": {},
   "outputs": [],
   "source": [
    "tsv_file = tsv_file.actual_instance"
   ]
  },
  {
   "cell_type": "code",
   "execution_count": 59,
   "id": "86e26188-defa-4d41-84cd-666c869c17dd",
   "metadata": {},
   "outputs": [
    {
     "data": {
      "text/plain": [
       "'/tabular-files/IGVFFI8092FZKL/'"
      ]
     },
     "execution_count": 59,
     "metadata": {},
     "output_type": "execute_result"
    }
   ],
   "source": [
    "tsv_file.id"
   ]
  },
  {
   "cell_type": "code",
   "execution_count": 60,
   "id": "6f557fb8-1abf-447b-8af9-d1957b503330",
   "metadata": {},
   "outputs": [
    {
     "data": {
      "text/plain": [
       "'/tabular-files/IGVFFI8092FZKL/@@download/IGVFFI8092FZKL.tsv.gz'"
      ]
     },
     "execution_count": 60,
     "metadata": {},
     "output_type": "execute_result"
    }
   ],
   "source": [
    "tsv_file.href"
   ]
  },
  {
   "cell_type": "code",
   "execution_count": 61,
   "id": "868dca18-48c3-4496-b5c6-10e37969d816",
   "metadata": {},
   "outputs": [
    {
     "data": {
      "text/plain": [
       "4732"
      ]
     },
     "execution_count": 61,
     "metadata": {},
     "output_type": "execute_result"
    }
   ],
   "source": [
    "tsv_file.file_size"
   ]
  },
  {
   "cell_type": "code",
   "execution_count": 63,
   "id": "32b68ec0-80ad-4de2-b80c-6144cf1d1785",
   "metadata": {
    "scrolled": true
   },
   "outputs": [
    {
     "data": {
      "text/plain": [
       "b'\\x1f\\x8b\\x08\\x08\\x90\\x02Zf\\x00\\x03MYC.large_scale_loci_list.bed\\x00U[I\\xbau\\xb9\\t\\x1b\\'\\xab9\\xee\\xc0\\xac\\'\\x93\\x8c\\xb3\\xffA$\\xc3}\\xa8\\xbe\\xaa\\x81\\xfc\\xf3\\x8e[\\x1a\\x81}\\xff\\xf3\\xdf\\xff\\xdd\\x7f\\x8d\\xb9}\\x0f\\xbf\\x9eh\\xce\\xeb\\xff\\xfe\\xcfOp\\xc6v+\\x14n-\\xb8{\\xef(\\x14;Z\\x10\\xb1\\xd7.\\x14k\\xff\\t\\xee\\xf8\\xd6\\xfe\\xa1\\xbb\\xaf\\x08\\xce\\x1e\\xa7P\\x8c\\xd3\\x02\\xb3}v\\xa18\\xd2\\xd5\\xbd\\xe6_\\xa2\\x18\\xfe\\xfd\\tb\\x8csO\\xa2\\xf9\\xdd\\xee*&z\\x9a\\x89\\xce\\xb7\\xa7\\x08\\xec\\xae\\x91\\xc8\\xd7\\x1a-\\xc0\\x96\\x1cO4\\xe7q\\x11\\xd8\\xfd\\t|\\xa9\\xe0,\\xab\\xae\\xb0 \\xed\\x8a\\xb3_\\x89|\\x9f\\xd5\\x02\\x9f\\x11\\x85\\xf6\\xf7]\\x11\\xd8\\xb9\\x96\\xc8\\xbf\\xdb\\xdb\\x1e7\\xcey+\\x8f\\xf8\\xbe#+\\x0f\\xbf_.\\x10\\x7f\\xd3\\x07u\\xbe\\x11\\xb6\\xbf\\x87\\xe67\\xf6\\xd7\\x82\\xb90\\x9bDX\\xebn\\xc1\\x1a\\x1e\\'\\xd1\\x9cqZ\\x80#\\x7f\\x9bH\\x14\\xbd\\x89\\x07;}b%\\xb2/V\\x0bp\\x9c\\x16\\x89\\xe6\\x17=\\xf8\\x18\\xe8\\xe2$\\x1a\\xf3.\\x11\\xdc\\xf5\\xd6\\x01\\x14g\\xf4:p\\x9e\\xfb\\xceBq\\xa7\\x080\\xea\\x97\\xc8\\xec^\\x11\\xdc\\xbf/\\xee?\\xbf\\xc0f\\xe5\\xe0\\x0b{(c\\xac{G$\\x8a5\\xa2\\x05\\x1b\\x8a\\x95\\x82=\\xd7\\'\\xd3\\x85\\x96\\xcf\\xecj\\xdf={\\xaf\\x06\\xf7h$\\x82\\xba\\xcb\\x17\\xf8\\xef\\x16\\x9a\\xe7\\x0c\\x11\\xec\\xb1\\xa3\\x90m\\x19\\xdc\\xa6\\x7f\\xd9\\x95-\\x9c\\xa1\\x08.\\x96\\x98(\\xe6\\x92\\x95\\x1b\\x14\\xcd\\x1e\\xc2\\x97\\xa2\\x0c\\x83\\xea\\x97c\\xb8-\\x93/\\xa0p?\\x81\\x7fK\\x06\\x87Z\\xc5.t\\xa2\\xb5d\\xc0\\xc2V\\n0\\xb6n\"6$\\xd5g\\xc4\\xfaD}p\\x80P\\xcfB6\\xb7\\n\\xfc\\x16:SNp~~V\\xa1\\xfb\\xc9\\x02\\xe7X\\xc7V\\xa2m6E\\x10>\\xde\\xca\\xe7\\x1c\\xa7m\\x10M\\xec\\xfaLdK\\x94\\x01\\xeen\\xfbH\\x14\\x9f{\\x0b\\xa0\\x1b\\x11\\x89pd*\\x98n%X\\xd3B\\x04a3\\xbb\\xda\\xdf\\x982\\xf8\\xfe\\xf6g\\x85B\\xf6j\\xee\\x85!\\x0b\\x1d\\x1d\\x1cs\\x9f?dSV~\\xc2n\\x8ea\\x9f\\xb9\\x0cn\\xf8\\xcb\\\\\\xa0ACe\\x81>V-\\xd0\\xc7u\\x99\\x95c]\\xb9\\x89\\xf0\\xfa!c8\\x1cov\\xe5>M\\x0e\\n\\xca\\x90\\xbe\\x04\\x08*\\xa7\\x828\\xf5E\\xec\\xa3\\x82\\xb0\\x93+\\xbf\\x1f|A\\x0b.\\x8e:7\\x11\\xe1`\\xca:.N\\xb6\\x04\\x00\\xa2>\\xf0\\xfa;\\xd5\\xe7\\x06\\\\j\\x0bb\\xdc\\x99c@\\x13\\xa7\\n\\x10?F\\xa1\\x10S\\xc3b\\xcf\\xcam\\x87\\x1b]\\xbd\\xed\\xeb\\xfb<\\xcdya\\xb6c\\x88`\\x8e<(\\xec\\xed\\xea\\xa8\\x86\\xe6\\x9d9\\x06P\\x8cO\\x041r\\x8c5\\xbeOv\\x17\\xcd\\xfd\\x82\\x17Q\\xb8|\\x01{I\\xab\\x05\\xbab\\xb5\\x0b\\xfe\\xf9F!\\xbb!\\x02\\x84\\xacY\\xe8\\xca\\x99/l\\xaf\\x97\\xe0\\xe2\\xccD\\x10e\\x83@j\\x83\\xd4d\\xcb\\xc1\\x11\\x05ew\\xd1\\xf4tKX\\xf6\\xfdd\\xba\\x0b\\xae/\\xbbZp}\\xda\\x15\\xf6\\xfd\\xe9\\xd5\\x82\\x19\\xecv}\\x0b\\xf6\\x9f~\\x17(t\\x13\\xd1\\xb4B\\xd3$\\x14-\\x84\\xaf\\xef\\x87\\xec\\xbb*\\xb8\\xa9W\\xeb\\xd0\\x17\\xb4\\xc0\\xe6L\\xbf\\xcb`\\x1cr\\x82\\xd0\\xe9\\xbb\\n\\x858d,o\\x8eS\\xc8\\x9b~\\xa0ym\\xe4\\t:NF\\xbe@\\xfcO\\xd7\\xb7.h\\x91\\xcc\\n\\x9b\\x9b\\x0e\\x00\\xc8\\xc5\\x01l\\xa8@\\xc6\\x0f\\x04\\x925T\\x00\\'\\xba\\x0bA\\xbdE\\xb0c\\x95\\xe0\\xec\\xa5\\x02\\xf81O\\x84\\x13\\xec\\xe9\"\\xfa\\xe0x\\x12\\xc1\\x03|\"\\xf0\\xaf\\xbe\\x98\\x0e\\x8b\\x14\\x01\\xe8S\\x8e\\x01_\\'\\x9a\\xb8\\xa9\\x8a3\\x11\\x1c\\xd3\\x14\\xc1>V_\\xe0@dV\\x0bf>\\x12\\xf9g\\xb2\\xc0\\x05\\xbb\\xaf/\\xa0\\xd3W\\x04\\x8c\\x0e\\x0faw\\\\\\xc6 \\x13;\\x85\\xdce\\x81\\x08(;\\xd7\\x017(.\\x1c\\xc1\\xe4\\x9e\\x1c\\x03\\x06\\xff\\x85\\x08\\x8e\\xd5\\xb6\\x9b!\\x80\\xb7\\xc0\\x19r\\n\\x81\\x0c\\xb4 \\xeeH\\x07\\x00\\xa4\\xbb\\x0bE<^\\x08a\\xe9\\x8a\\xa0\\x880\\x91\\x10a4y\\xec\\x85\\xd43`\\x867\\xf7\\n\\xcc`\\xc9^\\x91\\x8e\\xacS\\x08\\x8a-\\x02\\xec\\x96\\'\\xc26O\\x11\\xd89%\\xf0\\xaf\\xb9(\\x9b\\xa5\\xa2\\xd0\\xcf)\\xeas\\x18\\x96\\xa3\\x90\\x85L\\x17\\xee6\\xb5\\x84\\x0eU\\xb4\\x84\\'5V\"0B\\x13\\x014(\\x17\\x88\\x8d\\x0e\\x15\\x80S\\x17\\xfa\\x87\\xc2\\x9dc\\xdf.\\x04]\\x90\\x05\\xe28\\xd3\\x0c\\x80\\\\\\xcc\\x00\\xb1`\\xe7y@\\xef>\\xa1\\x1f\\xe7\\xc6J\\x7f\\x05t\\xc5_\\xa1\\x19\\x19 O`0\\xd9]\\xd8p\\xe4t\\x03*\\'\\x9b\\x88\\xe6\\xb6B`\\xf7\\x7f\\x02\\xa3\\xdf\\x8eD\\xa0w!\\x02\\x92\\xe6D\\xb0\\xb4)\\x02x\\x8cU\\xe8\\xca\\xd1\\x1a\\x98\\x8cy\\xa2\\x8b\\xb8\\xdd\\x82\\xe53\\xa9\\x01X\\xc9\\x10\\xea\\x8c\\x08|s\\xbap\\xa6K\\xa8\\xb3\\xd1\\xf4v\"\\xf0[\\x99\\xd5vO\\x7f\\x05O\\xe7\\xe2d@&\\xe1\\x15\\x1f\\x82\\x1aO\\x99.\\x0f7\\xc786\\x85\\xf5\\xd1nR\\x19\\xec\\xd0y\\x88\\x00\\xe6\\\\]\\xdd3\\xb4\\xab\\xf8\\xd2\\xbd\\x02\\x85\\xb0%\\xb8]P\\xfcD\\x08l*\\xe0 \\x89`\\xc0\\xd2\\x15\\xb2\\xd1\\x8c\\x1f@&\\xf1\\x03t\\xe7\\x94\\x00\\x9cAr\\x03\\xa8\\x92\\xa5\\x03\\xe0\\xa6w\\xa2\\xf8\\x9a\\x19\\xb6\\rjuE\\x00\\x82\\\\[\\x82$L\\xb7\\x04M\\xfb!\\xf5W\\x88\\x19\\xb0\\xb0D\\xc8eZw\\xfd\\xc3TN\\xa2\\xf1\\x89&\\xb2\\xf9\\x92j\"%\\x90\\xe4\\xe4\\xb9%\\xd8\\xdbp\\x15\\x90V%\\xbaK\\x98%\\xf2\\xc4\\x91>\\x11\\xc8\\xc4\\'\"\\x01\\x1d\\x99\\x1b\\x00\\x99\\xe4\\x06\\xce\\xe8\\x9c]1:KW\\xe0m\\xc9\\xfa\\x80\\xbc\\x93Qx7\\x04\\xcc\\x1f\\nq\\xfa\\xccp\\x92\\xf5!\\x0c~\\x92A\"\\xfb\\xb0\\\\\\xe0%\\x07\\xebu\\x80\\x8a\\x84\\x17Z[\\x9c\\xe5\\x85\\x1b{y\\xed\\xb9\\xfb\\x9b\\x9d\\xd7bw`j_\"\\x98Z\\x8f\\x81\\x8c\\xde2\\x14\\xbd|c\\x89\\x80\\xbbZ\\xe8H\\xd8\\x8e9F\\xf2+ \\x93\\xa8\\xc64\\xe5[\\x85\\x8e$q\\xb0\\xf9X\\x85|K\\x9a\\x11p\\xd5\\x19q\\xc0\\x1e\\xf7v\\x11@3K\\x00\\xab\\x951\\xec\\xee<A\\xa0\\x90\\x13d3\\xc9\\x1d\\xfeu\\x0b\\xb9\\xa3\\xf3\\xca-\\x81\\x82\\x8d\\xde\\x128\\x1f\\xcb,\\xd5HJ\\xdbY\\x1a\\xe3\\xcfc\\x19@\\xe4\\x1b-@|\\x7f\\xe6\\x0c\\xb4\\xb0X\\x110\\xfc%\\x82\\xe6IW\\x18{Y\"PI\\x19\\x1cK\\x1f\\xa3\\x90\\x10a\\x83-\\x8fw\\xe6D\\xd6gn\\xcc\\xcf\\x9f^\\x11E\\xeb\\x95\\x8dErZ\\xc8[\\x19\\x0cF\\xfe=\\xa6Ot\\xda\\xfb\\x18\\x068/\\x1a\\x00\\x81\\xbc\\xfeY\\xad\\x91\\xbe<M\\x04\\x82\\xac\\xbf\\xc0\\xc1\\xc6;Z\\xa0\\xb1\\xfbh\\x91\\xe3\\x82\\x0cY!o\\xe3\\x84\\xdbE\\x80=\\x85\\x84\\x85\\xc3\\x0b\\xafL\\xe2\\x80\\xb6$ql\\xce\\xdc] \\x97\\xdd]\\xac\\x08E\",\\xa3\\xb7d\\xd3IE!ke\\xa0C\\x9f\\xf9\\x05\\x08\\xd5\\xe80\\xc1\\xe6z\\xd1\\x80N\\x1e\\xc1\\xb5\\x05\\x1b\\x9el$\\x82I\\xc8\\x17\\x9b\\x85\\x95B\\xb7\\xd3\\x0c\\x10\\xa1\\xdf:\\x10\\xa6]g\\x85=\\x8d\\x1f:\\xf2\\xc5\\xf9\\xbe\\xfb\\\\8\\xa3\\x04\\x0eK\\x04\\xd8\\x94\\x99h\\x8b\\xa9\\x19\\x89\\xcds\\xaf@&\\xec\\x15\\xcd;\\x9f[\"\\xf2vKh\\xc67k\\x0cd\\x8c2\\x06\\x92\\xc0\\x12\\x90\\r\\x8a\\x00\\xc9in\\xe2K&{\\x13\\x91+\\xec\\xb1\\n\\x85N\\x17:\\xee\\xb3\\x905\\xb3$U:\\x8fL\\x18\\xb9\\x81\\x89\\x00f\\x90{\\x85\\x18\\xb3\\xe4\\xcc\\x0f,rfW\\x98\\xd3\\x94/\\xe0\\xad\\xec+\\x04\\xc7\\xfb\\'\\x00!\\xc8J\\xaa\\xd1\\x1c\\xc5>\\xa8\\xe4\\xafdA\\x04W\\xdb\\x829\\xbe\\x97\\xca\\x10\\x9dNe\\x10\\x1f\\xe7\\xcau\\x00]Y\\x07\\xc6\\\\\\xb9%\\x1c]\\xb6\\xc4\\x100\\xc3\\x0b\\x85\\x9c9\\x82\\xd7\\x8d\\xec*bu\\xe2\\x8eP\\x02.=\\x13\\x81\\xd2\\x88\\x80A\\xf9K\\xe4C4\\x91\\xca\\x93.\\x83\\x05]q\\x19w0\\xadJ\\x84X\\xdb\\x0b\\x04\\xb5\\xcbx\\x0e\\x84\\xfd\\x97\\xae8\\xcf\\x99\\xc8\\x87\\x9c\\x07\\xec+\\xeb%DR/1R\\xf2\\x97\\xb1\\x00-\\xa1\\x83\\xc6\\x88\\xf5*wD\\xb7+w\\xf0P`?\\x85\\\\\\xd2\\x0c\\x83\\xaa\\xef\\xb9\\x0b\\xc5\\x94\\xae`\\xce\\xa3\\x10\\xcb\\x91\\x7f\\x02\\x86\\xb8t21`t\\xbd@\\xf8\\xf3\\xcc\\xb6\\x89\\x84x\\xb1\\xe6\\xb0\\xd3\\xc3\\x05\\x8ba=+\\x86\\x89\\xdcv\\xc6\\x05\\xd9v(\\xf8\\xcc\\x13\\x04R\\xab\\rd\\x10y\\x82@\\xa7O\\x10\\x0c\\x02MK\\x04O`-@\\xba\\xee\\x91\\x08\\xfe\\xf2\\x8a\\xe0\\x9eW\\xb2`\\xa1\\xef\\xeb\\xb2\\x08r\"D\\xd2/\\xd1\\x94\\x83\\x02\\xef\\xf9\\xb2\\xc4Jt\\xae\\n`\\xc7\\x9e\\xc8\\xc5!c?\\xe8\\xa7\\nE\\xc8\\x18\\xf7\\xcbM\\x04\\x1a\\xb2\\x89\\xd0\\xb1H\\xb6D$l\\xc9\\x91\\n\\xcd\\xe7\\xa9\\x89\\xa0\\xa5-\\xc0\\xc1fW\\x03\\x1eJ\\xbb\\xb2\\x95\\xa9\\x0c\\xd0\\x96T\\x06n\\xe1&\\xd3\\'\\x12\\xa6\\x8f\\xa9\\x7fgeWO\\xab[\\x10_\\xde\\x028\\xeb\\x9dG\\xba\\xc2)<\\xfbp\\xeaB\\xdb\\x07\\x9a\\xa0^\\xf5\\x05<A\\x7f1\\xbf/\\x8bN@C\\x8aNh\\xc2\\x1b\\x8dD.\\xc1\\xcb\\xff\\xca\\x9f@4\\x89\\x16\\x0c\\x9c\\xc7.\\xe4\\xda\\xd5\\xe0\\xc5G\"\\x93+\\x88\\xd7\\xbc?\\x815\\xd9F\\xf3\\x9a\\x97 \\xa4\\x96\\xc1f\\x16\\x01A\\x8f\\x11S\\xe5\\x8b9\\xcfO\\xb0v\\xd7\\x19\\x9c*\\x93\\xea\\xf3\\x8a\\xad2]\\xb0\\xc6\\xf1C\\xa1c\\xac1RK&k\\\\2\\x06}\\xfbWHrg4q\\xec\\xf5\\x05,[\\x16\\xb8A\\xf1sV4_\\xe9j\\xd3\\x97%\\x02\\x998\"\\x08\\xdfy\\x1e\\xbc\\x01\\x91M|\\x15\\xedD\\xa49\"X\\xd0\\xfeD\\x88\\xd3*\\x88\\xac\\xbd:\\xc9\\xda\\x92\\xc1\\x8d\\xc5\\x8cD\\xac\\xbe\\x88\\x80E\\x96D\\xfe\\x8f\\xddu\\xa6\\xb0\\x898Z\\x0bH\\xaag!\\x17\\x070\\xe1XF*\\x03\\xedF\\xb6\\x1d\\xf4\\xfe\\xa5\\x00@WJ\\xac\\xe8\\x17ld\\'\\x02\\x89\\xdb\"\\x18+\\x95\\x1a\\xe8\\x8aR/h\\xe2.\\x84M\\xecY\\xe1\\xcf\\xe3%\\xbc\\x0c\\x9b\\x924\\x80Lb#R\\x80Cn\\x17\\xce\\xa6?\\xc2\\xc2\\xd2\\xe5\\xfe\\xc7\\x17\\x11\\x91\\xb3\\xda\\xac\\xa4\\xb4\\x00\\xb1\\xe0\\x85\\t\\xa0!a\\x82\\xcdL\\x91\\x9dE\\x02\\x97\\xe9Rg\\xa2\\x90}\\xb2r\\x84\\xbb\\xfa\\x82e\\x98\\xfe\\x02z<v\\xa1q\\xba\\xd6\\xc7f9\\x19$,\\xead0\\xa9uJ\\x80\\xfcS\\x04\\x03\\xcck\\x14\\x92\\x1a\\x00<\\xe2*O\\xbd\\xf7VO\\x8d\\x0ci\\xe6y0\\xda\\xc9\\xd1\\xee\\x0b\\x02\\x1c\\x89\\xe6\\x12\\xf7\\n\\x02\\x11\\xe9\\xc86\\xcb%\\xd2UX\\xd6\\x13\\x89\\x84\\x91\\xc1\\xaf\\x833\\x9cB\\xd7\\xda\\x0cx9\\xf6\\x15\\xc2\\xa1\\xf5\\xd1\\xc2!~\\xe9\\xaf\\x80\\x8e8\\x19\\x167\\xd3j\\x81L|;\\xcb=ij\\xe7\\xc0rzV\\xc7V\\xd6\\xa9\\x89$\\xdc9K\\x13\\xef\\x0e\\xd2\\x99\\xc0\\x8b\\xeeb\\xe3\\xbe<A )\\xe9\\x81\\xab\\x83\\xfc\\xe4:\\xc2\\xa4\\x84\\xc4|`\\xe5\\x960k\\x90-1^\\xbb\\x16b:\\xd9\\x02P\\xedw1\\x02\\x84\\x94Q\\x05\\xc8e\\xa2\\xd0\\xe9\\x92\\x1e\\x1c\\x8e}\\xa9\\xed@\\xaa%\\xa4[\\x19\\xbc0\\xa7-\\xc1\\x8bS|EY \\xa4\\xa3\"p:\\xf7D\\xb0\\xff\\xdev\\xa3u\\xe7\\xac\\x98\\xb7\\xcb\\xacp\\x9c\\xef^\\x8d(BV~\\x11\\xd6f\"\\x92\\x9a?\\x81\\x7f\\x96Y\\x11\\x99\\x8f\\x06\\x16\\x7f%\\xa2Dd\\xa3\"\\xa0\\xdf/$W\\x10\\x0e\\xf3F\\xb6\\x9f\\x88\\xc9\\x8b\\x08V\\x16\\x9d\\x80\\x90\\x82\\xc8\\xe0\\x8bW\\x8a\\x89\\xee\\x10\\xfb\\x80Y\\xd4\\xb6#\\xd76\\xd9\\x12\\xe7\\xf5\\xc2*tt\\xba`\\xc5i\\x06P\\x13e\\x19n,\\xbe\\x16\\n\\xd1v\\xb4g\\x06a \\x97 \\xccB~FN\\x0fV\\xb9Dp\\xfc\\xe6\\xac\\xc2f\\x97\\r\\x9d\\xef\\x19\\xd2p\\xf8\\x9eA\\x0c\\xe72A\\xf7DP\\x1f\\x17\\xc1H\\xa6O$L\\x9f\\x17\\xf4\\x15&\\xee\\xa7Wtl\\x8e\\xa8\\xae\\xc0\\xec\\xb5+(\\xcd\\x9b.h\\xc9\\x96hp\\x17\\xd3\\xcdD$\\x16\"X\\xdf\\xbb\\x0c#:}\\x19\\xe6\\x17\\\\\\xf4\\xd5\\xaf\\x80\\xa6\\\\\\xac\\xa3\\xb9\\xae\\x17\\xda\\xa0;\"\\x88\\xbc\\xc2v\\x18\\xe3\\xee\\xaa\\x1a\\x9a\\xdb\\xd2\\x06a\\x9bc\\xc9\\xe00\\xcat\\xe1\\x8fv\\xcb\\x17\\xc8LoN7\\x98L\\xb6 \\xb0\\xaa\\x1c#\\x90*\\x0e\\x11\\xb0\\xdeS\\xe8v\\x01\\xdbyG\\x9ba\\x1b|Q\\xc36\\xd3\\xe2WO\\x04\\x9aC8\\x1c\\x18G\\x96\\xee\\x81BJ\\xf7\\xd0\\x05\\xba\\xa9D\\xf6\\xc9^\\xc5\\x86\\x99G\\xa2!uQ4#\\xeb\\xa2\\xce\\xfaH\\x97\\xc2\\xa03\\xc8\\x13\\x7f\\xc8\\xc5>\\x82\\xa5\\xb4Y\\xe8\\x8a\\xebC\\x962^-\\x83\\xc8\\xb4\\xab\\x80\\x1d\\xe4\\xe0\\xc1[\\xc4\\x9f\\x80\\xf7(\\xb6\\n\\xf1\\xa9B\\x0bh\\xce_\"\\x93YA\\x99\\x98\\xc9\\x17\\x923\\xe7-nfED\\x11\\xd2\\x15X\\xc9K\\xaa\\x89\\xa4\\x06py\\x99\\xf1*^D\\xd6\\x05l\\xa4\\xc1LI\\x12A\\x8be\\xbav\\xd2p\\x88\\xc4p\\x90\\x00\\xd8O\\x00\\x83\\xbe\\xf2\\x05\\xcdv$\\xbaRz\\x81\\xee[\\xd6E/\\xe9n\\'\\xbc|Ht\\x1e\\xeb\\xbb\\xcc\\x8ed\\x1d85\\x7f*\\n\\xb4g\\xab(\\x9aL\\x87\\x12!\\xea\\xf6^\\r>\\xcd\\x19\\x89\\xae\\xb0\\x0c6\\xe7\\xb1B\\xde.\\x03Y.\\xef\\xc0\\x12\\x81?\\xa8\\xc0\\xce\\xd3v w]\\x07\\x0b\\xa8%`\\xee\\xd2\\x82\\x8b\\x7f\\x1f\\x85D}.\\x9f3\\xec\\x14\\xf0\\x83^\\xc7$M\\xb1D\\xc8\\x13z\\xf0\\tG\\x9f\\'\\x08t\\xe5\\x04\\xf9\\x82c\\x14\\x9a\\xb3Y\\xf8e1\\xf6E\\x1c\"\\xc9\\xd5.\\xa9\\xe9\\xabx\\x11YW\\xbc.\\x13\\xdd\\x97;\\x13I\\xee\\x0c_\\xc4\\xe2j\"\\x10\\xc2!\\x02\\xec\\xe2\\x97\\x88\\xa4\\xb1\\x05\\x86<#\\x12\\x81\\xaa\\xf7\\xd1\\xf2)N\\x1e-\\x88\\xcf\\xe8B<B\\x1d\\xdc\\x89\\'\\xba\\xa7\\xd9+\\xc2\\xe3\\xc8j\\x14\\x10\\x1cC\\xab(\\xa2\\xf6x\\x97aD\\xb6\\xe4\\x0b\\xe4\\xe5\\xb9\\x89\\xc8\\xe0u\\x137\\r\\xdf\\x0b\\xc5\\x90\\xae.\\x1c\\xc3*t\\xfb\\xba\\x06\\xcd\\x9b\\xe9\\x12P\\x08\\xa1\\xa7\\xdb]\\xef\\xa5\\x13\\xd0Y\\xcdK.\\xd9\\xd2\\x0bE@\\xc8\\r\\x86\\x08\\xb0\\xaa\\x91\\x08\\xe6\\xac\\x02+\\xfb8\\xc7\\xe5\\x86\\x97\\xbb\\xb0\\x1f\\xd3\\'\\x8af\\xfa\\xf0{ \\xfa)p\\xe6\\xcb-\\xb8\\'_\\xbd\\x10\\x85\\xcb\\x18p\\xa3\\xfeC\\xd6\\xce\\x12\\xcd\\x95\\xdc\\x87H\\xb8\\xcf\\x85\\xfd\\xe7+$\"\\xef\\xb4\\x0f\\xb1ae-\\x83Hj\\x19h\\xc2\\xc5\\x8dB\\xd1N\\xff\\x1a\\xcbl_\"2\\xc3\\x16 \\x98\\xe5A\\xf1fQ\\x0e\\n\\x8c\\'\\xd2jY\\xb79\\xd2\\x15Z\\xa7\\xd0\\x91<\\n\\xe7\\x07\\xbe\\xbc\\nEG\\xe7\\xcb\\xadJ\\xcf@\\xae\\xd6\\x85\\xad\\xcb`\\xf6\"\\'\\x10\\xfcL\\xdb\\xe0\\x9du\\xc7r\\xf9\\x0eK\\xb6\\x9d\\n\\xf8\\xca\"D\\xde!\\xf5b\\xb7KE\\xb1\\x8b\\x92\\x98\\\\>pLO}y\\xfd\\xd5\\x83#l\\xce4g \\x17s\\xe6\\xf3\\xbf\\xc7\\xaf\\x800)\\x11\\xe0\\x03\\xfb!\\x13\\xc3Avh\\xe9\\xc2\\xe3\\x9dm\\x0b\\xb0\\xed\\xb9\\x89\\xa0\\xd4S6\\x11\\x81\\xf7K3\\x00:m\\x06\\xef\\xe9\\xe1\\xcb\\xeer\\x16\\xab\\x05k\\xdf\\xe7w\\x81\\x101\\xe4\\x0b\\xa4\\xa2\\xcf\\x8b\\x02\\xf1\\x11A\\x0bx/\\x97]\\x81\\x10o\\xe9*H\\x7f\\x0by\\xbb%\\x96[\\xb2\\x9c@$\\xe5\\x04\\xde\\xea\\xacW\\xac!\\xba]\\xacA\\x93\\xa5\\xeaD.l)\\xf8\\x1c\\xeb\\xe5\\x83@\\xf0\\xa72\\x86\\xf19X!\\xef\\xa3\\r\\xc6\\xd8Wa!\\xf2.Y@\\x11\\xc0\\x9ef\\xa1\\xe8$\\x8e\\x1e\\x7f\\xbdZ\\x06Q\\xf4\\x05\\x0f\\x9f\\x95f\\xb1\\x9f\\xe8~*X\\xeb\\xf9\\x12\\xa2\\xdb\\xbe$x\\xdf\\x9b\\x83o\\xde\\xf0\\x8a\\x80\\x0f\\x80F!\\x97u \\xddM\\xa6\\x1f\\xfb\\xdda\\xb7\\x00\\x96\\xf3j\\xe1\\xef\\xf2\\xab\\x1f:\\xb0\\x82\\xb9\\xab+0^\\xe9\\x8a\\xf7%/x\\xc5\\xbbY\\x98\"\\xa8\\xab_\\xa2\\xd3\\xe4\\x8e\\x04{\\xbe\\xc4\\x9d\\xc8M\\xbe0$\\x84_\\xa1\\xdb\\x81\\x85\\xd7jn\\x85\\xf0mO\\xf7\\x80vD\\x8e\\xc1P/c\\xc0\\xbe\\xbd\\x90\\xcbUc\\xd8\\xf82:\\x03\\r\\x89\\xce\\xc1\\xd7\\x94/x\\x11\\xdd\\x8eQ\\xc19=3 \\x92\\x97\\x99\\xdc\\xc1d\\xe1\\xf1.\\xd6w\\x0b\\x98\\xe2x\"&N-@\\xb8\\x1e\\xd9\\x159\\xaa\\n\\x8a-\\x05]\\x9a\\x98\\x01s\\xba\\xaf\\x90\\xc9\\x9d\\x17\\xe9\\xe4x7\\rD\\xb7\\x19\\x00_\\xb4\\x85\\xe5\\x021/\\x93\\xae\\x82\\x89_\\xa1c\\xa1\\x82\\x1b9]\\x96\\x00z\\x0c\\xe6\\xa2\\x8f\\xa4\\x02\\xc1c\\xf5\\xee\\xfa\\xf8\\xb2\\xb2\\r\\x84\\x04\\xa4\\xbbb\\x06\\xf9\\xbc(\\xaf\\xcb\\xe5)0\\x9a7_\\xd6\\x10\\xc9\\xcb\\x9a\\xf05\\xd2\\xb7\\x03\\xcd\\xd9\\x0c\\x80\\xb7\\xec\\xeb\\x95E\\xde}{\\x97ExS\\x9c\\x8f\\x87YG\\x15\\xf7\\xcaf>\\xbf\\x00\\xba\\xf2\\xfc\\x02\\xfc\\xfaK\\xbeK$|7Hyr\\xe5\\x97\\xb7\\xd8.\\x02\\x1bi\\x06w\\xea\\x13A\\xf8\\xbb\\x9b\\xb1\\x16(\\x84\\x8bf3\\n\\x99\\xcc\\n\\x81?\\xb3\\xd4 \\x9d\\xba*\\x88\\xf5\\xb2\"\\xa2\\xdbYQ\\xf0\\xf1X\\txN\"\\xa0\\xab\\xcf\\xaep\\x1c]\\xf2F\\x13z\\x92\\xb3b\\xf8\\x92Y\\xc5\\xc8h\\x004%\\x1a\\x80\\xbc\\xac|\\xdf\\x0e\\xb4\\xe5};i\\xdb}E\\xa7\\xe0{\\x80\\xa6Q\\xaf\\x99{\\x15\\xe4\\x83\\xbdWX\\xc5IsF~\\xa4N\\x9f\\x86\\xf4\\xd2%\\xa0%\\xe9R@\\x9d\\xbe<Z y!\\x14d\\xb5\\x8fL\\x10\\x85KWp^\\xab\\x04\\xd0\\x0b\\x11\\\\\\x8eY\\xc8\\xc5\\xe9\\xc7{\\x08\\xff/\\x10\\xd5\\x8f\\xa5\\xd7\\xdf^\\xadW\\xd0#/!\\xc2\\xbc\\x87\\x08\\xd0\\xcc/\\x06O_\\x04\\xc8`\\xea\\x0b\\x96\\xdc[\\x80\\x9c\\x9a\\x9b\\xf8P\\xd3A6\\xb7S\\x19\\x88\\x180Z\\x80\\x18\\xceXK\\xc4[\\xae\\x16\\x18\\xab\\x02\\x89n\\xd7\\x90\\xd1\\xbc\\xc8\\xdc\\xbeB\\xf1G\\xee\\xd8\\x04\\xaf)\\x84tNf\\x05\\xd7\\xbdr\\x0ch\\xee\\x92Y\\xd1W\\x17\\xb2\\xf1Gq\\xb2IO\\xfdP\\xec\\xee\\n\\xbe\\xd2\\xc3\\x13A\\xa7\\xbb+\\xa4\\xd4\\xef\\xb9\\xf1+\\x14\\x8f\\xdb\\xd3e|\\x88(\\x14\\xd1+\\x1f\\xc8>F\\xa1\\xd9OO\\xd9\\xdc\\xcbO\\xa1\\xeb\\xbd\\xed\\x83\\xe5\\xd0U(\\xbe\\x9e.\\xb2\\xdc]\\xb3\\xe2\\xa35\\x99\\x15\\x9f|\\xecD\\x88\\xed\\x9f\\x08\\x10\\xf0\\n\\x9dv}8\\xbe\\x97\\xb5\\x16\\n9\\x0f^\\xb9\\xc4\\x0fu&\\xcc\\x03g\\xaa\\x9b\\x88\\x81A\\x04\\xc8\\x8b\\xa3\\x90\\xadPA\\xac\\x95\\xc8\\xf7\\xeau\\xc0\\xd2\\xde\\x9b\\xd4\\x87|\\xf7&\":\\xda\\xfa\\x12\\xad\\xbe,~\\xcd\\xf3\\x15\\xe2}x\\x0b\\xe0\\xdaO\\xae\\x83\\x0f9d\\x1d,\\x8c|\\x85\\xba\\x16\\x8e\\xe6{PS\\xc8\\xe4\\xcc\\x19c\\x99`\\x11\\xc9\\xfb\\xabj\\xaeB~{\\x1d\\xb9\\xc4D\\xab\\xafk\\x98\\xba\\xe2\\x7f+tG\\xcf\\nj\\xb8r\\xba\\xebD\\xff\\\\\\x05\\xcd\\xf7*!\\xd1\\xf9v/p\\xb1\\xa2\\x9d\\x02\\'\\x95iA \\'\\xdb\\x89\\xf8\\xdb\\xa3?\\xc1\\xab\\xd0[\"\\xf9!\\x02\\xef\\x9c\\xec1\\x99\\x87\\x9a\\xc9\\xb0\\to\\xff\\xba\"M\\xb7>Zda\\xb5\\xc0\\xcd{\\xb1>\\xdaM\\xc9(dK\\xba\\xe2\\xdb\\xbcB{O\\xfdb[\\xaa\\x0f\\x1c\\xf8\\x10\\xf5\\x81\\xcd\\x8e\\x9a\\x95-\\xd3Y\\xf19U\\xce\\n\\xbe\\xcee\\x81\\xb1\\xca\\xd4\\x18H\\xc4\\xd4\\xf8\\x1b\\xa0\\x98\\x85\\xfaN\\x98\\xbfi\\xc9\\\\\\xed\\xa1\\xce\\xd5^\\xd3r\\x13\\xb1\\xe9C6\\x11T\\xe9\\xd5,\\x1f\\xba\\xe22\\xe0zF\\xea\\xd5\\xe1M\\xe1\\xa7\\x02\\x8b\\xfc\\x02\\xe6\\x18\\xf2\\x05\\xd3\\xf8\\x14\\xbc\\x9f\\x80\\x88\\xc0=\\xb5\\x1d\\xc1\\xf8\\x13\\xab}\\xf7\\x0b9\\xab\\x05O \\xb3Z`\\xdb_\\xa13\\xe5\\x8b=^H%\\x82i\\xf5\\x96\\xbc7P_\"\\xfe\\xc2\\xa9\\x05\\xf0_n\\x89f\\xff$\\x86M\\xfb2L\\x00\\x9d\\xdb\\x83\\x1b\\xb3\\xb7\\x95(:1Y,s\\xbd\\xb7\\x83D\\xb3\\xdf\\x0e\\xa2\\x89\\x84\\'5\\xd1\\xc0\\xe8E\\x13Y\\x0b=\\xa3P\\xb3\\x0c4O^\\x9f\\x111\"\\xb6\\x807\\x84\\'\\xd1\\x1a\\xe7\\x88\\xe0\\xect2@!N\\xc6X:\\x9e\\x85\\xae\\xc9\\xac\\xee\\xa8\\x88\\x03\\xf2\\xa9\\x11\\x87\\x17\\x12\\xfb\\x14\\xb2\\xddc8\\x02a\\n\\xf8\\xba@\\x05#\\x9f\\x8b\\x11\\xc9s14\\xf9\\x8a\\xc2\\x13]\\xec\\xe3\\xbf\\xff\\x0f\\xf6~\\xec:Y8\\x00\\x00'"
      ]
     },
     "execution_count": 63,
     "metadata": {},
     "output_type": "execute_result"
    }
   ],
   "source": [
    "raw_tsv = api.download(tsv_file.id)\n",
    "raw_tsv"
   ]
  },
  {
   "cell_type": "code",
   "execution_count": 68,
   "id": "62fb8b30-7244-4e8e-8549-5cfd519efeba",
   "metadata": {},
   "outputs": [],
   "source": [
    "from io import BytesIO\n",
    "import pandas as pd"
   ]
  },
  {
   "cell_type": "code",
   "execution_count": 71,
   "id": "4f85eceb-30d6-460d-8382-1151a032708b",
   "metadata": {},
   "outputs": [
    {
     "data": {
      "text/html": [
       "<div>\n",
       "<style scoped>\n",
       "    .dataframe tbody tr th:only-of-type {\n",
       "        vertical-align: middle;\n",
       "    }\n",
       "\n",
       "    .dataframe tbody tr th {\n",
       "        vertical-align: top;\n",
       "    }\n",
       "\n",
       "    .dataframe thead th {\n",
       "        text-align: right;\n",
       "    }\n",
       "</style>\n",
       "<table border=\"1\" class=\"dataframe\">\n",
       "  <thead>\n",
       "    <tr style=\"text-align: right;\">\n",
       "      <th></th>\n",
       "      <th>0</th>\n",
       "      <th>1</th>\n",
       "      <th>2</th>\n",
       "    </tr>\n",
       "  </thead>\n",
       "  <tbody>\n",
       "    <tr>\n",
       "      <th>0</th>\n",
       "      <td>chr8</td>\n",
       "      <td>124741787</td>\n",
       "      <td>124742287</td>\n",
       "    </tr>\n",
       "    <tr>\n",
       "      <th>1</th>\n",
       "      <td>chr8</td>\n",
       "      <td>124751476</td>\n",
       "      <td>124751976</td>\n",
       "    </tr>\n",
       "    <tr>\n",
       "      <th>2</th>\n",
       "      <td>chr8</td>\n",
       "      <td>124784449</td>\n",
       "      <td>124784949</td>\n",
       "    </tr>\n",
       "    <tr>\n",
       "      <th>3</th>\n",
       "      <td>chr8</td>\n",
       "      <td>124799434</td>\n",
       "      <td>124799934</td>\n",
       "    </tr>\n",
       "    <tr>\n",
       "      <th>4</th>\n",
       "      <td>chr8</td>\n",
       "      <td>124810348</td>\n",
       "      <td>124810848</td>\n",
       "    </tr>\n",
       "    <tr>\n",
       "      <th>...</th>\n",
       "      <td>...</td>\n",
       "      <td>...</td>\n",
       "      <td>...</td>\n",
       "    </tr>\n",
       "    <tr>\n",
       "      <th>572</th>\n",
       "      <td>chr8</td>\n",
       "      <td>130681801</td>\n",
       "      <td>130682301</td>\n",
       "    </tr>\n",
       "    <tr>\n",
       "      <th>573</th>\n",
       "      <td>chr8</td>\n",
       "      <td>130692145</td>\n",
       "      <td>130692645</td>\n",
       "    </tr>\n",
       "    <tr>\n",
       "      <th>574</th>\n",
       "      <td>chr8</td>\n",
       "      <td>130701645</td>\n",
       "      <td>130702145</td>\n",
       "    </tr>\n",
       "    <tr>\n",
       "      <th>575</th>\n",
       "      <td>chr8</td>\n",
       "      <td>130716836</td>\n",
       "      <td>130717336</td>\n",
       "    </tr>\n",
       "    <tr>\n",
       "      <th>576</th>\n",
       "      <td>chr8</td>\n",
       "      <td>130726887</td>\n",
       "      <td>130728616</td>\n",
       "    </tr>\n",
       "  </tbody>\n",
       "</table>\n",
       "<p>577 rows × 3 columns</p>\n",
       "</div>"
      ],
      "text/plain": [
       "        0          1          2\n",
       "0    chr8  124741787  124742287\n",
       "1    chr8  124751476  124751976\n",
       "2    chr8  124784449  124784949\n",
       "3    chr8  124799434  124799934\n",
       "4    chr8  124810348  124810848\n",
       "..    ...        ...        ...\n",
       "572  chr8  130681801  130682301\n",
       "573  chr8  130692145  130692645\n",
       "574  chr8  130701645  130702145\n",
       "575  chr8  130716836  130717336\n",
       "576  chr8  130726887  130728616\n",
       "\n",
       "[577 rows x 3 columns]"
      ]
     },
     "execution_count": 71,
     "metadata": {},
     "output_type": "execute_result"
    }
   ],
   "source": [
    "pd.read_csv(BytesIO(raw_tsv), compression='gzip', sep='\\t', header=None)"
   ]
  },
  {
   "cell_type": "code",
   "execution_count": 72,
   "id": "57d71feb-cc36-45d3-abc1-52c7518c15c7",
   "metadata": {},
   "outputs": [
    {
     "data": {
      "text/plain": [
       "SearchResults(graph=[SearchResultItem(actual_instance=User(status='current', schema_version='5', uuid='f9e7cd82-a407-4a20-89ee-f4dc668b0cbe', notes=None, aliases=None, creation_timestamp=None, submitted_by=None, submitter_comment=None, description=None, email=None, first_name=None, last_name=None, lab='/labs/jesse-engreitz/', submits_for=['/labs/jesse-engreitz/', '/labs/thomas-quertermous/', '/labs/anshul-kundaje/', '/labs/michael-bassik/', '/labs/will-greenleaf/', '/labs/marlene-rabinovitch/', '/labs/lars-steinmetz/'], groups=None, viewing_groups=['IGVF'], job_title=None, id='/users/f9e7cd82-a407-4a20-89ee-f4dc668b0cbe/', type=['User', 'Item'], summary=None, title='Michael Montgomery')), SearchResultItem(actual_instance=User(status='current', schema_version='5', uuid='e5d430d2-0b7c-41cb-91be-ce0ddd787af9', notes=None, aliases=None, creation_timestamp=None, submitted_by=None, submitter_comment=None, description=None, email=None, first_name=None, last_name=None, lab='/labs/jesse-engreitz/', submits_for=['/labs/jesse-engreitz/', '/labs/thomas-quertermous/', '/labs/anshul-kundaje/', '/labs/michael-bassik/', '/labs/will-greenleaf/', '/labs/marlene-rabinovitch/', '/labs/lars-steinmetz/'], groups=None, viewing_groups=['IGVF'], job_title=None, id='/users/e5d430d2-0b7c-41cb-91be-ce0ddd787af9/', type=['User', 'Item'], summary=None, title='Dulguun Amgalan')), SearchResultItem(actual_instance=User(status='current', schema_version='5', uuid='ddb425b6-3b56-4b7b-9887-15aadd20ed99', notes=None, aliases=None, creation_timestamp=None, submitted_by=None, submitter_comment=None, description=None, email=None, first_name=None, last_name=None, lab='/labs/jesse-engreitz/', submits_for=['/labs/jesse-engreitz/', '/labs/thomas-quertermous/', '/labs/anshul-kundaje/', '/labs/michael-bassik/', '/labs/will-greenleaf/', '/labs/marlene-rabinovitch/', '/labs/lars-steinmetz/'], groups=None, viewing_groups=['IGVF'], job_title=None, id='/users/ddb425b6-3b56-4b7b-9887-15aadd20ed99/', type=['User', 'Item'], summary=None, title='Evelyn Jagoda')), SearchResultItem(actual_instance=User(status='current', schema_version='5', uuid='a138ff68-2623-439d-ada7-94f409cd1469', notes=None, aliases=None, creation_timestamp=None, submitted_by=None, submitter_comment=None, description=None, email=None, first_name=None, last_name=None, lab='/labs/jesse-engreitz/', submits_for=['/labs/jesse-engreitz/', '/labs/thomas-quertermous/', '/labs/anshul-kundaje/', '/labs/michael-bassik/', '/labs/will-greenleaf/', '/labs/marlene-rabinovitch/', '/labs/lars-steinmetz/'], groups=None, viewing_groups=['IGVF'], job_title=None, id='/users/a138ff68-2623-439d-ada7-94f409cd1469/', type=['User', 'Item'], summary=None, title='Tony Zeng')), SearchResultItem(actual_instance=User(status='current', schema_version='5', uuid='7c7ca375-a30f-4237-a212-100be64fbaed', notes=None, aliases=None, creation_timestamp=None, submitted_by=None, submitter_comment=None, description=None, email=None, first_name=None, last_name=None, lab='/labs/jesse-engreitz/', submits_for=['/labs/jesse-engreitz/', '/labs/thomas-quertermous/', '/labs/anshul-kundaje/', '/labs/michael-bassik/', '/labs/will-greenleaf/', '/labs/marlene-rabinovitch/', '/labs/lars-steinmetz/'], groups=None, viewing_groups=['IGVF'], job_title=None, id='/users/7c7ca375-a30f-4237-a212-100be64fbaed/', type=['User', 'Item'], summary=None, title='Wenyan Zhang')), SearchResultItem(actual_instance=User(status='current', schema_version='5', uuid='6c75dbfa-635e-4a7a-8ec8-9e51e9c380a4', notes=None, aliases=None, creation_timestamp=None, submitted_by=None, submitter_comment=None, description=None, email=None, first_name=None, last_name=None, lab='/labs/jesse-engreitz/', submits_for=['/labs/jesse-engreitz/'], groups=None, viewing_groups=['IGVF'], job_title=None, id='/users/6c75dbfa-635e-4a7a-8ec8-9e51e9c380a4/', type=['User', 'Item'], summary=None, title='Jesse Engreitz')), SearchResultItem(actual_instance=User(status='current', schema_version='5', uuid='4b2083b4-24c1-41d8-9daa-e79299f00d6e', notes=None, aliases=None, creation_timestamp=None, submitted_by=None, submitter_comment=None, description=None, email=None, first_name=None, last_name=None, lab='/labs/jesse-engreitz/', submits_for=['/labs/jesse-engreitz/', '/labs/thomas-quertermous/', '/labs/anshul-kundaje/', '/labs/michael-bassik/', '/labs/will-greenleaf/', '/labs/marlene-rabinovitch/', '/labs/lars-steinmetz/'], groups=None, viewing_groups=['IGVF'], job_title=None, id='/users/4b2083b4-24c1-41d8-9daa-e79299f00d6e/', type=['User', 'Item'], summary=None, title='Ronghao Zhou')), SearchResultItem(actual_instance=User(status='current', schema_version='5', uuid='12693ee2-fa46-421f-8c44-831d9e13ec10', notes=None, aliases=None, creation_timestamp=None, submitted_by=None, submitter_comment=None, description=None, email=None, first_name=None, last_name=None, lab='/labs/jesse-engreitz/', submits_for=['/labs/jesse-engreitz/', '/labs/thomas-quertermous/', '/labs/anshul-kundaje/', '/labs/michael-bassik/', '/labs/will-greenleaf/', '/labs/marlene-rabinovitch/', '/labs/lars-steinmetz/'], groups=None, viewing_groups=['IGVF'], job_title=None, id='/users/12693ee2-fa46-421f-8c44-831d9e13ec10/', type=['User', 'Item'], summary=None, title='Gabriella Martyn')), SearchResultItem(actual_instance=User(status='current', schema_version='5', uuid='05fa0dc9-0e33-427c-9d1f-82393edc4a03', notes=None, aliases=None, creation_timestamp=None, submitted_by=None, submitter_comment=None, description=None, email=None, first_name=None, last_name=None, lab='/labs/jesse-engreitz/', submits_for=['/labs/jesse-engreitz/', '/labs/thomas-quertermous/', '/labs/anshul-kundaje/', '/labs/michael-bassik/', '/labs/will-greenleaf/', '/labs/marlene-rabinovitch/', '/labs/lars-steinmetz/'], groups=None, viewing_groups=['IGVF'], job_title=None, id='/users/05fa0dc9-0e33-427c-9d1f-82393edc4a03/', type=['User', 'Item'], summary=None, title='Helen Kang'))], id='/search?type=User&lab=/labs/jesse-engreitz/&frame=object', type=['Search'], total=9, facets=[SearchFacet(var_field='type', title='Data Type', terms=[{'key': 'User', 'doc_count': 9}]), SearchFacet(var_field='lab', title='lab', terms=[{'key': '/labs/jesse-engreitz/', 'isEqual': True}])])"
      ]
     },
     "execution_count": 72,
     "metadata": {},
     "output_type": "execute_result"
    }
   ],
   "source": [
    "api.search(type=['User'], field_filters={'lab': lab.id})"
   ]
  },
  {
   "cell_type": "code",
   "execution_count": 73,
   "id": "732a101a-3505-4a8e-a238-afad1fbd3983",
   "metadata": {},
   "outputs": [
    {
     "data": {
      "text/plain": [
       "'2024-07-18 19:25:23.163744\\thttps://api.data.igvf.org/multireport/?type=User&lab=%2Flabs%2Fjesse-engreitz%2F&limit=all\\r\\nID\\tUUID\\tTitle\\tLab\\tStatus\\r\\n/users/4b2083b4-24c1-41d8-9daa-e79299f00d6e/\\t4b2083b4-24c1-41d8-9daa-e79299f00d6e\\tRonghao Zhou\\t/labs/jesse-engreitz/\\t\\r\\n/users/7c7ca375-a30f-4237-a212-100be64fbaed/\\t7c7ca375-a30f-4237-a212-100be64fbaed\\tWenyan Zhang\\t/labs/jesse-engreitz/\\t\\r\\n/users/05fa0dc9-0e33-427c-9d1f-82393edc4a03/\\t05fa0dc9-0e33-427c-9d1f-82393edc4a03\\tHelen Kang\\t/labs/jesse-engreitz/\\t\\r\\n/users/a138ff68-2623-439d-ada7-94f409cd1469/\\ta138ff68-2623-439d-ada7-94f409cd1469\\tTony Zeng\\t/labs/jesse-engreitz/\\t\\r\\n/users/e5d430d2-0b7c-41cb-91be-ce0ddd787af9/\\te5d430d2-0b7c-41cb-91be-ce0ddd787af9\\tDulguun Amgalan\\t/labs/jesse-engreitz/\\t\\r\\n/users/12693ee2-fa46-421f-8c44-831d9e13ec10/\\t12693ee2-fa46-421f-8c44-831d9e13ec10\\tGabriella Martyn\\t/labs/jesse-engreitz/\\t\\r\\n/users/f9e7cd82-a407-4a20-89ee-f4dc668b0cbe/\\tf9e7cd82-a407-4a20-89ee-f4dc668b0cbe\\tMichael Montgomery\\t/labs/jesse-engreitz/\\t\\r\\n/users/6c75dbfa-635e-4a7a-8ec8-9e51e9c380a4/\\t6c75dbfa-635e-4a7a-8ec8-9e51e9c380a4\\tJesse Engreitz\\t/labs/jesse-engreitz/\\t\\r\\n/users/ddb425b6-3b56-4b7b-9887-15aadd20ed99/\\tddb425b6-3b56-4b7b-9887-15aadd20ed99\\tEvelyn Jagoda\\t/labs/jesse-engreitz/\\t\\r\\n'"
      ]
     },
     "execution_count": 73,
     "metadata": {},
     "output_type": "execute_result"
    }
   ],
   "source": [
    "api.report(type=['User'], field_filters={'lab': lab.id})"
   ]
  },
  {
   "cell_type": "code",
   "execution_count": 76,
   "id": "4dbfd293-a888-4c63-93e0-e98e126dca4f",
   "metadata": {},
   "outputs": [
    {
     "data": {
      "text/html": [
       "<div>\n",
       "<style scoped>\n",
       "    .dataframe tbody tr th:only-of-type {\n",
       "        vertical-align: middle;\n",
       "    }\n",
       "\n",
       "    .dataframe tbody tr th {\n",
       "        vertical-align: top;\n",
       "    }\n",
       "\n",
       "    .dataframe thead th {\n",
       "        text-align: right;\n",
       "    }\n",
       "</style>\n",
       "<table border=\"1\" class=\"dataframe\">\n",
       "  <thead>\n",
       "    <tr style=\"text-align: right;\">\n",
       "      <th></th>\n",
       "      <th>ID</th>\n",
       "      <th>UUID</th>\n",
       "      <th>Title</th>\n",
       "      <th>Lab</th>\n",
       "      <th>Status</th>\n",
       "    </tr>\n",
       "  </thead>\n",
       "  <tbody>\n",
       "    <tr>\n",
       "      <th>0</th>\n",
       "      <td>/users/4b2083b4-24c1-41d8-9daa-e79299f00d6e/</td>\n",
       "      <td>4b2083b4-24c1-41d8-9daa-e79299f00d6e</td>\n",
       "      <td>Ronghao Zhou</td>\n",
       "      <td>/labs/jesse-engreitz/</td>\n",
       "      <td>NaN</td>\n",
       "    </tr>\n",
       "    <tr>\n",
       "      <th>1</th>\n",
       "      <td>/users/7c7ca375-a30f-4237-a212-100be64fbaed/</td>\n",
       "      <td>7c7ca375-a30f-4237-a212-100be64fbaed</td>\n",
       "      <td>Wenyan Zhang</td>\n",
       "      <td>/labs/jesse-engreitz/</td>\n",
       "      <td>NaN</td>\n",
       "    </tr>\n",
       "    <tr>\n",
       "      <th>2</th>\n",
       "      <td>/users/05fa0dc9-0e33-427c-9d1f-82393edc4a03/</td>\n",
       "      <td>05fa0dc9-0e33-427c-9d1f-82393edc4a03</td>\n",
       "      <td>Helen Kang</td>\n",
       "      <td>/labs/jesse-engreitz/</td>\n",
       "      <td>NaN</td>\n",
       "    </tr>\n",
       "    <tr>\n",
       "      <th>3</th>\n",
       "      <td>/users/a138ff68-2623-439d-ada7-94f409cd1469/</td>\n",
       "      <td>a138ff68-2623-439d-ada7-94f409cd1469</td>\n",
       "      <td>Tony Zeng</td>\n",
       "      <td>/labs/jesse-engreitz/</td>\n",
       "      <td>NaN</td>\n",
       "    </tr>\n",
       "    <tr>\n",
       "      <th>4</th>\n",
       "      <td>/users/e5d430d2-0b7c-41cb-91be-ce0ddd787af9/</td>\n",
       "      <td>e5d430d2-0b7c-41cb-91be-ce0ddd787af9</td>\n",
       "      <td>Dulguun Amgalan</td>\n",
       "      <td>/labs/jesse-engreitz/</td>\n",
       "      <td>NaN</td>\n",
       "    </tr>\n",
       "    <tr>\n",
       "      <th>5</th>\n",
       "      <td>/users/12693ee2-fa46-421f-8c44-831d9e13ec10/</td>\n",
       "      <td>12693ee2-fa46-421f-8c44-831d9e13ec10</td>\n",
       "      <td>Gabriella Martyn</td>\n",
       "      <td>/labs/jesse-engreitz/</td>\n",
       "      <td>NaN</td>\n",
       "    </tr>\n",
       "    <tr>\n",
       "      <th>6</th>\n",
       "      <td>/users/f9e7cd82-a407-4a20-89ee-f4dc668b0cbe/</td>\n",
       "      <td>f9e7cd82-a407-4a20-89ee-f4dc668b0cbe</td>\n",
       "      <td>Michael Montgomery</td>\n",
       "      <td>/labs/jesse-engreitz/</td>\n",
       "      <td>NaN</td>\n",
       "    </tr>\n",
       "    <tr>\n",
       "      <th>7</th>\n",
       "      <td>/users/6c75dbfa-635e-4a7a-8ec8-9e51e9c380a4/</td>\n",
       "      <td>6c75dbfa-635e-4a7a-8ec8-9e51e9c380a4</td>\n",
       "      <td>Jesse Engreitz</td>\n",
       "      <td>/labs/jesse-engreitz/</td>\n",
       "      <td>NaN</td>\n",
       "    </tr>\n",
       "    <tr>\n",
       "      <th>8</th>\n",
       "      <td>/users/ddb425b6-3b56-4b7b-9887-15aadd20ed99/</td>\n",
       "      <td>ddb425b6-3b56-4b7b-9887-15aadd20ed99</td>\n",
       "      <td>Evelyn Jagoda</td>\n",
       "      <td>/labs/jesse-engreitz/</td>\n",
       "      <td>NaN</td>\n",
       "    </tr>\n",
       "  </tbody>\n",
       "</table>\n",
       "</div>"
      ],
      "text/plain": [
       "                                             ID  \\\n",
       "0  /users/4b2083b4-24c1-41d8-9daa-e79299f00d6e/   \n",
       "1  /users/7c7ca375-a30f-4237-a212-100be64fbaed/   \n",
       "2  /users/05fa0dc9-0e33-427c-9d1f-82393edc4a03/   \n",
       "3  /users/a138ff68-2623-439d-ada7-94f409cd1469/   \n",
       "4  /users/e5d430d2-0b7c-41cb-91be-ce0ddd787af9/   \n",
       "5  /users/12693ee2-fa46-421f-8c44-831d9e13ec10/   \n",
       "6  /users/f9e7cd82-a407-4a20-89ee-f4dc668b0cbe/   \n",
       "7  /users/6c75dbfa-635e-4a7a-8ec8-9e51e9c380a4/   \n",
       "8  /users/ddb425b6-3b56-4b7b-9887-15aadd20ed99/   \n",
       "\n",
       "                                   UUID               Title  \\\n",
       "0  4b2083b4-24c1-41d8-9daa-e79299f00d6e        Ronghao Zhou   \n",
       "1  7c7ca375-a30f-4237-a212-100be64fbaed        Wenyan Zhang   \n",
       "2  05fa0dc9-0e33-427c-9d1f-82393edc4a03          Helen Kang   \n",
       "3  a138ff68-2623-439d-ada7-94f409cd1469           Tony Zeng   \n",
       "4  e5d430d2-0b7c-41cb-91be-ce0ddd787af9     Dulguun Amgalan   \n",
       "5  12693ee2-fa46-421f-8c44-831d9e13ec10    Gabriella Martyn   \n",
       "6  f9e7cd82-a407-4a20-89ee-f4dc668b0cbe  Michael Montgomery   \n",
       "7  6c75dbfa-635e-4a7a-8ec8-9e51e9c380a4      Jesse Engreitz   \n",
       "8  ddb425b6-3b56-4b7b-9887-15aadd20ed99       Evelyn Jagoda   \n",
       "\n",
       "                     Lab  Status  \n",
       "0  /labs/jesse-engreitz/     NaN  \n",
       "1  /labs/jesse-engreitz/     NaN  \n",
       "2  /labs/jesse-engreitz/     NaN  \n",
       "3  /labs/jesse-engreitz/     NaN  \n",
       "4  /labs/jesse-engreitz/     NaN  \n",
       "5  /labs/jesse-engreitz/     NaN  \n",
       "6  /labs/jesse-engreitz/     NaN  \n",
       "7  /labs/jesse-engreitz/     NaN  \n",
       "8  /labs/jesse-engreitz/     NaN  "
      ]
     },
     "execution_count": 76,
     "metadata": {},
     "output_type": "execute_result"
    }
   ],
   "source": [
    "from io import StringIO\n",
    "\n",
    "pd.read_csv(StringIO(api.report(type=['User'], field_filters={'lab': lab.id})), sep='\\t', skiprows=1)"
   ]
  },
  {
   "cell_type": "code",
   "execution_count": 86,
   "id": "662cf212-2f84-4ec1-847e-ba96aea4b104",
   "metadata": {},
   "outputs": [
    {
     "data": {
      "text/plain": [
       "dict_keys(['controlled_access', 'anvil_url', 'release_timestamp', 'documents', 'lab', 'award', 'accession', 'alternate_accessions', 'collections', 'status', 'revoke_detail', 'schema_version', 'uuid', 'notes', 'aliases', 'creation_timestamp', 'submitted_by', 'submitter_comment', 'description', 'analysis_step_version', 'content_md5sum', 'content_type', 'dbxrefs', 'derived_from', 'file_format', 'file_format_specifications', 'file_set', 'file_size', 'md5sum', 'submitted_file_name', 'upload_status', 'validation_error_detail', 'flowcell_id', 'lane', 'read_count', 'minimum_read_length', 'maximum_read_length', 'mean_read_length', 'sequencing_platform', 'sequencing_kit', 'sequencing_run', 'illumina_read_type', 'index', '@id', '@type', 'summary', 'integrated_in', 'input_file_for', 'gene_list_for', 'loci_list_for', 'href', 's3_uri', 'upload_credentials', 'seqspecs'])"
      ]
     },
     "execution_count": 86,
     "metadata": {},
     "output_type": "execute_result"
    }
   ],
   "source": [
    "api.schema_for_item_type('SequenceFile')['properties'].keys()"
   ]
  },
  {
   "cell_type": "code",
   "execution_count": null,
   "id": "4f8f161e-c187-4058-9db1-da6419fa33c0",
   "metadata": {},
   "outputs": [],
   "source": []
  }
 ],
 "metadata": {
  "kernelspec": {
   "display_name": "Python 3 (ipykernel)",
   "language": "python",
   "name": "python3"
  },
  "language_info": {
   "codemirror_mode": {
    "name": "ipython",
    "version": 3
   },
   "file_extension": ".py",
   "mimetype": "text/x-python",
   "name": "python",
   "nbconvert_exporter": "python",
   "pygments_lexer": "ipython3",
   "version": "3.11.9"
  }
 },
 "nbformat": 4,
 "nbformat_minor": 5
}
