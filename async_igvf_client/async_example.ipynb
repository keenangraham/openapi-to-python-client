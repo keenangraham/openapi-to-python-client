{
 "cells": [
  {
   "cell_type": "code",
   "execution_count": 1,
   "id": "c7e94d36-783b-4ee1-96d2-cb57efcb3b72",
   "metadata": {},
   "outputs": [],
   "source": [
    "import asyncio"
   ]
  },
  {
   "cell_type": "code",
   "execution_count": 2,
   "id": "aa52ad0e-f823-4404-b8c1-b8c2bdea567c",
   "metadata": {},
   "outputs": [],
   "source": [
    "from igvf_client import AsyncIgvfApi"
   ]
  },
  {
   "cell_type": "code",
   "execution_count": 3,
   "id": "235618b6-4bc4-4046-b789-8d39dbe3e23b",
   "metadata": {},
   "outputs": [],
   "source": [
    "api = AsyncIgvfApi()"
   ]
  },
  {
   "cell_type": "code",
   "execution_count": 4,
   "id": "11cbe6a6-3be3-4b81-84c6-d0ed87bb639b",
   "metadata": {},
   "outputs": [
    {
     "name": "stdout",
     "output_type": "stream",
     "text": [
      "['AccessKey', 'AnalysisStep', 'AnalysisStepVersion', 'Award', 'Biomarker', 'Document', 'HumanDonor', 'RodentDonor', 'AlignmentFile', 'ConfigurationFile', 'GenomeBrowserAnnotationFile', 'ImageFile', 'MatrixFile', 'ModelFile', 'ReferenceFile', 'SequenceFile', 'SignalFile', 'TabularFile', 'AnalysisSet', 'AuxiliarySet', 'ConstructLibrarySet', 'CuratedSet', 'MeasurementSet', 'ModelSet', 'PredictionSet', 'Gene', 'Image', 'InstitutionalCertificate', 'Lab', 'CrisprModification', 'DegronModification', 'AssayTerm', 'PhenotypeTerm', 'PlatformTerm', 'SampleTerm', 'OpenReadingFrame', 'Page', 'PhenotypicFeature', 'Publication', 'InVitroSystem', 'MultiplexedSample', 'PrimaryCell', 'TechnicalSample', 'Tissue', 'WholeOrganism', 'Software', 'SoftwareVersion', 'Source', 'Treatment', 'User', 'Workflow']\n"
     ]
    }
   ],
   "source": [
    "item_types = [x for x in (await api.schemas()).keys() if '_' not in x and '@' not in x]\n",
    "print(item_types)"
   ]
  },
  {
   "cell_type": "code",
   "execution_count": 5,
   "id": "997aa9bc-0828-4563-954c-b99c8e1a453d",
   "metadata": {},
   "outputs": [],
   "source": [
    "async def get_total(item_type):\n",
    "    total = (await api.search(type=[item_type], limit=0)).total\n",
    "    return (item_type, total)"
   ]
  },
  {
   "cell_type": "code",
   "execution_count": 6,
   "id": "b64a10be-acba-44d6-88d8-79762caeeef5",
   "metadata": {},
   "outputs": [
    {
     "name": "stdout",
     "output_type": "stream",
     "text": [
      "0.3848400115966797 {'SequenceFile': 9257, 'ConfigurationFile': 767, 'ReferenceFile': 709, 'MeasurementSet': 607, 'AuxiliarySet': 284, 'PhenotypeTerm': 275, 'User': 225, 'Source': 109, 'Lab': 102, 'SampleTerm': 80, 'Publication': 71, 'CuratedSet': 59, 'Software': 48, 'TabularFile': 44, 'Image': 44, 'Award': 27, 'PlatformTerm': 24, 'AssayTerm': 22, 'HumanDonor': 16, 'Page': 15, 'RodentDonor': 11, 'AnalysisSet': 11, 'Document': 10, 'ConstructLibrarySet': 9, 'MultiplexedSample': 8, 'Tissue': 8, 'SignalFile': 7, 'CrisprModification': 3, 'Treatment': 3, 'PhenotypicFeature': 1, 'AccessKey': 0, 'AnalysisStep': 0, 'AnalysisStepVersion': 0, 'Biomarker': 0, 'AlignmentFile': 0, 'GenomeBrowserAnnotationFile': 0, 'ImageFile': 0, 'MatrixFile': 0, 'ModelFile': 0, 'ModelSet': 0, 'PredictionSet': 0, 'Gene': 0, 'InstitutionalCertificate': 0, 'DegronModification': 0, 'OpenReadingFrame': 0, 'InVitroSystem': 0, 'PrimaryCell': 0, 'TechnicalSample': 0, 'WholeOrganism': 0, 'SoftwareVersion': 0, 'Workflow': 0}\n"
     ]
    }
   ],
   "source": [
    "import time\n",
    "s = time.time()\n",
    "res = await asyncio.gather(*(get_total(item_type) for item_type in item_types))\n",
    "e = time.time()\n",
    "print(e - s, dict(sorted(res, key=lambda x: -x[1])))"
   ]
  }
 ],
 "metadata": {
  "kernelspec": {
   "display_name": "Python 3 (ipykernel)",
   "language": "python",
   "name": "python3"
  },
  "language_info": {
   "codemirror_mode": {
    "name": "ipython",
    "version": 3
   },
   "file_extension": ".py",
   "mimetype": "text/x-python",
   "name": "python",
   "nbconvert_exporter": "python",
   "pygments_lexer": "ipython3",
   "version": "3.11.9"
  }
 },
 "nbformat": 4,
 "nbformat_minor": 5
}
