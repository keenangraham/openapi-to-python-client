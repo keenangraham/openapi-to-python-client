{
 "cells": [
  {
   "cell_type": "code",
   "execution_count": 23,
   "id": "c7e94d36-783b-4ee1-96d2-cb57efcb3b72",
   "metadata": {},
   "outputs": [],
   "source": [
    "import asyncio"
   ]
  },
  {
   "cell_type": "code",
   "execution_count": 29,
   "id": "aa52ad0e-f823-4404-b8c1-b8c2bdea567c",
   "metadata": {},
   "outputs": [],
   "source": [
    "from igvf_client import AsyncIgvfApi"
   ]
  },
  {
   "cell_type": "code",
   "execution_count": 30,
   "id": "235618b6-4bc4-4046-b789-8d39dbe3e23b",
   "metadata": {},
   "outputs": [],
   "source": [
    "api = AsyncIgvfApi()"
   ]
  },
  {
   "cell_type": "code",
   "execution_count": 31,
   "id": "11cbe6a6-3be3-4b81-84c6-d0ed87bb639b",
   "metadata": {},
   "outputs": [
    {
     "name": "stdout",
     "output_type": "stream",
     "text": [
      "['AccessKey', 'AnalysisStep', 'AnalysisStepVersion', 'Award', 'Biomarker', 'Document', 'HumanDonor', 'RodentDonor', 'AlignmentFile', 'ConfigurationFile', 'GenomeBrowserAnnotationFile', 'ImageFile', 'MatrixFile', 'ModelFile', 'ReferenceFile', 'SequenceFile', 'SignalFile', 'TabularFile', 'AnalysisSet', 'AuxiliarySet', 'ConstructLibrarySet', 'CuratedSet', 'MeasurementSet', 'ModelSet', 'PredictionSet', 'Gene', 'Image', 'InstitutionalCertificate', 'Lab', 'CrisprModification', 'DegronModification', 'AssayTerm', 'PhenotypeTerm', 'PlatformTerm', 'SampleTerm', 'OpenReadingFrame', 'Page', 'PhenotypicFeature', 'Publication', 'InVitroSystem', 'MultiplexedSample', 'PrimaryCell', 'TechnicalSample', 'Tissue', 'WholeOrganism', 'Software', 'SoftwareVersion', 'Source', 'Treatment', 'User', 'Workflow']\n"
     ]
    }
   ],
   "source": [
    "item_types = [x for x in (await api.schemas()).keys() if '_' not in x and '@' not in x]\n",
    "print(item_types)"
   ]
  },
  {
   "cell_type": "code",
   "execution_count": 32,
   "id": "997aa9bc-0828-4563-954c-b99c8e1a453d",
   "metadata": {},
   "outputs": [],
   "source": [
    "async def get_total(item_type):\n",
    "    total = (await api.search(type=[item_type], limit=0)).total\n",
    "    return (item_type, total)"
   ]
  },
  {
   "cell_type": "code",
   "execution_count": 33,
   "id": "b64a10be-acba-44d6-88d8-79762caeeef5",
   "metadata": {},
   "outputs": [
    {
     "name": "stdout",
     "output_type": "stream",
     "text": [
      "0.42616891860961914 {'SequenceFile': 9257, 'ConfigurationFile': 767, 'ReferenceFile': 709, 'MeasurementSet': 607, 'AuxiliarySet': 284, 'PhenotypeTerm': 275, 'User': 225, 'Source': 109, 'Lab': 102, 'SampleTerm': 79, 'Publication': 71, 'CuratedSet': 59, 'Software': 48, 'TabularFile': 44, 'Image': 44, 'Award': 27, 'PlatformTerm': 24, 'AssayTerm': 22, 'HumanDonor': 16, 'Page': 15, 'RodentDonor': 11, 'AnalysisSet': 11, 'Document': 10, 'ConstructLibrarySet': 9, 'MultiplexedSample': 8, 'Tissue': 8, 'SignalFile': 7, 'CrisprModification': 3, 'Treatment': 3, 'PhenotypicFeature': 1, 'AccessKey': 0, 'AnalysisStep': 0, 'AnalysisStepVersion': 0, 'Biomarker': 0, 'AlignmentFile': 0, 'GenomeBrowserAnnotationFile': 0, 'ImageFile': 0, 'MatrixFile': 0, 'ModelFile': 0, 'ModelSet': 0, 'PredictionSet': 0, 'Gene': 0, 'InstitutionalCertificate': 0, 'DegronModification': 0, 'OpenReadingFrame': 0, 'InVitroSystem': 0, 'PrimaryCell': 0, 'TechnicalSample': 0, 'WholeOrganism': 0, 'SoftwareVersion': 0, 'Workflow': 0}\n"
     ]
    }
   ],
   "source": [
    "import time\n",
    "s = time.time()\n",
    "res = await asyncio.gather(*(get_total(item_type) for item_type in item_types))\n",
    "e = time.time()\n",
    "print(e - s, dict(sorted(res, key=lambda x: -x[1])))"
   ]
  },
  {
   "cell_type": "code",
   "execution_count": 37,
   "id": "252a0de6-6b22-4f65-b5e5-5b35e84ddd32",
   "metadata": {},
   "outputs": [
    {
     "data": {
      "text/plain": [
       "UserResults(graph=[User(status='current', schema_version='5', uuid='ffc520df-7ed9-4769-a30d-143f0633cf5f', notes=None, aliases=None, creation_timestamp=None, submitted_by=None, submitter_comment=None, description=None, email=None, first_name=None, last_name=None, lab='/labs/bruce-posner/', submits_for=['/labs/bruce-posner/'], groups=None, viewing_groups=['IGVF'], job_title=None, id='/users/ffc520df-7ed9-4769-a30d-143f0633cf5f/', type=['User', 'Item'], summary=None, title='Bruce Posner'), User(status='current', schema_version='5', uuid='ff3d5807-7191-4c7d-9914-20347d42d076', notes=None, aliases=None, creation_timestamp=None, submitted_by=None, submitter_comment=None, description=None, email=None, first_name=None, last_name=None, lab='/labs/harinder-singh/', submits_for=['/labs/harinder-singh/', '/labs/nidhi-sahni/', '/labs/jishnu-das/'], groups=None, viewing_groups=['IGVF'], job_title=None, id='/users/ff3d5807-7191-4c7d-9914-20347d42d076/', type=['User', 'Item'], summary=None, title='Jingyu Fan'), User(status='current', schema_version='5', uuid='fe7e23bb-f29c-4cfb-9899-115615585139', notes=None, aliases=None, creation_timestamp=None, submitted_by=None, submitter_comment=None, description=None, email=None, first_name=None, last_name=None, lab='/labs/ali-mortazavi/', submits_for=['/labs/barbara-wold/', '/labs/ali-mortazavi/'], groups=None, viewing_groups=['IGVF'], job_title=None, id='/users/fe7e23bb-f29c-4cfb-9899-115615585139/', type=['User', 'Item'], summary=None, title='Narges Rezaie'), User(status='current', schema_version='5', uuid='fcfdf9f8-b4cb-491f-af81-a894cdb17bf3', notes=None, aliases=None, creation_timestamp=None, submitted_by=None, submitter_comment=None, description=None, email=None, first_name=None, last_name=None, lab='/labs/hongjun-song/', submits_for=['/labs/hongjun-song/'], groups=None, viewing_groups=['IGVF'], job_title=None, id='/users/fcfdf9f8-b4cb-491f-af81-a894cdb17bf3/', type=['User', 'Item'], summary=None, title='Hongjun Song'), User(status='current', schema_version='5', uuid='f9f1df6a-1c57-4903-aaf5-c7c4b3527711', notes=None, aliases=None, creation_timestamp=None, submitted_by=None, submitter_comment=None, description=None, email=None, first_name=None, last_name=None, lab='/labs/maureen-sartor/', submits_for=['/labs/maureen-sartor/'], groups=None, viewing_groups=['IGVF'], job_title=None, id='/users/f9f1df6a-1c57-4903-aaf5-c7c4b3527711/', type=['User', 'Item'], summary=None, title='Tingting Qin'), User(status='current', schema_version='5', uuid='f9e7cd82-a407-4a20-89ee-f4dc668b0cbe', notes=None, aliases=None, creation_timestamp=None, submitted_by=None, submitter_comment=None, description=None, email=None, first_name=None, last_name=None, lab='/labs/jesse-engreitz/', submits_for=['/labs/jesse-engreitz/', '/labs/thomas-quertermous/', '/labs/anshul-kundaje/', '/labs/michael-bassik/', '/labs/will-greenleaf/', '/labs/marlene-rabinovitch/', '/labs/lars-steinmetz/'], groups=None, viewing_groups=['IGVF'], job_title=None, id='/users/f9e7cd82-a407-4a20-89ee-f4dc668b0cbe/', type=['User', 'Item'], summary=None, title='Michael Montgomery'), User(status='current', schema_version='5', uuid='f760a876-41e5-445d-b62c-4e0d28c4e8ae', notes=None, aliases=None, creation_timestamp=None, submitted_by=None, submitter_comment=None, description=None, email=None, first_name=None, last_name=None, lab=None, submits_for=None, groups=None, viewing_groups=None, job_title=None, id='/users/f760a876-41e5-445d-b62c-4e0d28c4e8ae/', type=['User', 'Item'], summary=None, title='check files'), User(status='current', schema_version='5', uuid='f73e2a16-91bb-4741-a68b-5fc4260754ef', notes=None, aliases=None, creation_timestamp=None, submitted_by=None, submitter_comment=None, description=None, email=None, first_name=None, last_name=None, lab='/labs/marc-vidal/', submits_for=['/labs/anne-carpenter/', '/labs/marc-vidal/'], groups=None, viewing_groups=['IGVF'], job_title=None, id='/users/f73e2a16-91bb-4741-a68b-5fc4260754ef/', type=['User', 'Item'], summary=None, title='Jessica Ewald'), User(status='current', schema_version='5', uuid='f73829f9-e8a0-4f16-861d-275e7ac392d2', notes=None, aliases=None, creation_timestamp=None, submitted_by=None, submitter_comment=None, description=None, email=None, first_name=None, last_name=None, lab='/labs/j-michael-cherry/', submits_for=['/labs/j-michael-cherry/'], groups=None, viewing_groups=['community'], job_title=None, id='/users/f73829f9-e8a0-4f16-861d-275e7ac392d2/', type=['User', 'Item'], summary=None, title='Pedro Assis'), User(status='current', schema_version='5', uuid='f42344f4-e48f-400f-9fed-71c5deee6bee', notes=None, aliases=None, creation_timestamp=None, submitted_by=None, submitter_comment=None, description=None, email=None, first_name=None, last_name=None, lab='/labs/hannah-carter/', submits_for=['/labs/hannah-carter/'], groups=None, viewing_groups=['IGVF'], job_title=None, id='/users/f42344f4-e48f-400f-9fed-71c5deee6bee/', type=['User', 'Item'], summary=None, title='Hannah Carter'), User(status='current', schema_version='5', uuid='f3e1f6a2-6fec-4752-89ea-b975bf31e72a', notes=None, aliases=None, creation_timestamp=None, submitted_by=None, submitter_comment=None, description=None, email=None, first_name=None, last_name=None, lab='/labs/predrag-radivojac/', submits_for=['/labs/predrag-radivojac/'], groups=None, viewing_groups=['IGVF'], job_title=None, id='/users/f3e1f6a2-6fec-4752-89ea-b975bf31e72a/', type=['User', 'Item'], summary=None, title='Daniel Zeiberg'), User(status='current', schema_version='5', uuid='f399e2c3-7e5a-4378-a7fd-b9900fcd93b1', notes=None, aliases=None, creation_timestamp=None, submitted_by=None, submitter_comment=None, description=None, email=None, first_name=None, last_name=None, lab='/labs/maureen-sartor/', submits_for=['/labs/maureen-sartor/'], groups=None, viewing_groups=['IGVF'], job_title=None, id='/users/f399e2c3-7e5a-4378-a7fd-b9900fcd93b1/', type=['User', 'Item'], summary=None, title='Maureen Sartor'), User(status='current', schema_version='5', uuid='f34dedd7-c792-45ad-b4c2-477ada177915', notes=None, aliases=None, creation_timestamp=None, submitted_by=None, submitter_comment=None, description=None, email=None, first_name=None, last_name=None, lab='/labs/lea-starita/', submits_for=['/labs/lea-starita/', '/labs/doug-fowler/'], groups=None, viewing_groups=['IGVF'], job_title=None, id='/users/f34dedd7-c792-45ad-b4c2-477ada177915/', type=['User', 'Item'], summary=None, title='Alan Rubin'), User(status='current', schema_version='5', uuid='f33dbf60-bf80-449b-b24d-fb726f1a30fe', notes=None, aliases=None, creation_timestamp=None, submitted_by=None, submitter_comment=None, description=None, email=None, first_name=None, last_name=None, lab='/labs/alan-boyle/', submits_for=['/labs/alan-boyle/'], groups=None, viewing_groups=['IGVF'], job_title=None, id='/users/f33dbf60-bf80-449b-b24d-fb726f1a30fe/', type=['User', 'Item'], summary=None, title='Alan Boyle'), User(status='current', schema_version='5', uuid='f323da46-28f1-43ab-9545-3b812f89a4ca', notes=None, aliases=None, creation_timestamp=None, submitted_by=None, submitter_comment=None, description=None, email=None, first_name=None, last_name=None, lab=None, submits_for=None, groups=None, viewing_groups=None, job_title=None, id='/users/f323da46-28f1-43ab-9545-3b812f89a4ca/', type=['User', 'Item'], summary=None, title='External Lab'), User(status='current', schema_version='5', uuid='f0c67718-0218-4659-a7e8-1ce52e1ee8b8', notes=None, aliases=None, creation_timestamp=None, submitted_by=None, submitter_comment=None, description=None, email=None, first_name=None, last_name=None, lab='/labs/jason-buenrostro/', submits_for=['/labs/jason-buenrostro/', '/labs/bradley-bernstein/'], groups=None, viewing_groups=['IGVF'], job_title=None, id='/users/f0c67718-0218-4659-a7e8-1ce52e1ee8b8/', type=['User', 'Item'], summary=None, title='Charles Epstein'), User(status='current', schema_version='5', uuid='f02e598c-3ded-41f2-9bd3-607a39dc0c44', notes=None, aliases=None, creation_timestamp=None, submitted_by=None, submitter_comment=None, description=None, email=None, first_name=None, last_name=None, lab='/labs/shamil-sunyaev/', submits_for=['/labs/shamil-sunyaev/'], groups=None, viewing_groups=['IGVF'], job_title=None, id='/users/f02e598c-3ded-41f2-9bd3-607a39dc0c44/', type=['User', 'Item'], summary=None, title='Shamil Sunyaev'), User(status='current', schema_version='5', uuid='ec46dfbd-fc11-419d-81e8-8ba82ffe6375', notes=None, aliases=None, creation_timestamp=None, submitted_by=None, submitter_comment=None, description=None, email=None, first_name=None, last_name=None, lab='/labs/chongyuan-luo/', submits_for=['/labs/noah-zaitlen/', '/labs/kathrin-plath/', '/labs/roy-wollman/', '/labs/chongyuan-luo/', '/labs/jason-ernst/'], groups=None, viewing_groups=['IGVF'], job_title=None, id='/users/ec46dfbd-fc11-419d-81e8-8ba82ffe6375/', type=['User', 'Item'], summary=None, title='Terence Li'), User(status='current', schema_version='5', uuid='ebd1025b-e3ab-4e51-bfcd-1415f278281a', notes=None, aliases=None, creation_timestamp=None, submitted_by=None, submitter_comment=None, description=None, email=None, first_name=None, last_name=None, lab='/labs/barbara-wold/', submits_for=['/labs/barbara-wold/', '/labs/ali-mortazavi/'], groups=None, viewing_groups=['IGVF'], job_title=None, id='/users/ebd1025b-e3ab-4e51-bfcd-1415f278281a/', type=['User', 'Item'], summary=None, title='Diane Trout'), User(status='current', schema_version='5', uuid='eb543cda-67b7-493c-84eb-187d0dac13ba', notes=None, aliases=None, creation_timestamp=None, submitted_by=None, submitter_comment=None, description=None, email=None, first_name=None, last_name=None, lab='/labs/jay-shendure/', submits_for=['/labs/jay-shendure/'], groups=None, viewing_groups=['IGVF'], job_title=None, id='/users/eb543cda-67b7-493c-84eb-187d0dac13ba/', type=['User', 'Item'], summary=None, title='Jay Shendure'), User(status='current', schema_version='5', uuid='eae4c275-1e07-45e4-ae67-3e437a8680bb', notes=None, aliases=None, creation_timestamp=None, submitted_by=None, submitter_comment=None, description=None, email=None, first_name=None, last_name=None, lab='/labs/ansuman-satpathy/', submits_for=['/labs/ansuman-satpathy/'], groups=None, viewing_groups=['IGVF'], job_title=None, id='/users/eae4c275-1e07-45e4-ae67-3e437a8680bb/', type=['User', 'Item'], summary=None, title='Ansuman Satpathy'), User(status='current', schema_version='5', uuid='e9f9bd2e-177a-488e-a296-c2a579e0caeb', notes=None, aliases=None, creation_timestamp=None, submitted_by=None, submitter_comment=None, description=None, email=None, first_name=None, last_name=None, lab='/labs/karen-mohlke/', submits_for=['/labs/karen-mohlke/'], groups=None, viewing_groups=['IGVF'], job_title=None, id='/users/e9f9bd2e-177a-488e-a296-c2a579e0caeb/', type=['User', 'Item'], summary=None, title='Karen Mohlke'), User(status='current', schema_version='5', uuid='e5d430d2-0b7c-41cb-91be-ce0ddd787af9', notes=None, aliases=None, creation_timestamp=None, submitted_by=None, submitter_comment=None, description=None, email=None, first_name=None, last_name=None, lab='/labs/jesse-engreitz/', submits_for=['/labs/jesse-engreitz/', '/labs/thomas-quertermous/', '/labs/anshul-kundaje/', '/labs/michael-bassik/', '/labs/will-greenleaf/', '/labs/marlene-rabinovitch/', '/labs/lars-steinmetz/'], groups=None, viewing_groups=['IGVF'], job_title=None, id='/users/e5d430d2-0b7c-41cb-91be-ce0ddd787af9/', type=['User', 'Item'], summary=None, title='Dulguun Amgalan'), User(status='current', schema_version='5', uuid='e55b5d79-71ab-4278-9295-fb7fbb55185f', notes=None, aliases=None, creation_timestamp=None, submitted_by=None, submitter_comment=None, description=None, email=None, first_name=None, last_name=None, lab='/labs/luca-pinello/', submits_for=['/labs/luca-pinello/', '/labs/richard-sherwood/', '/labs/guillaume-lettre/', '/labs/daniel-bauer/'], groups=None, viewing_groups=['IGVF'], job_title=None, id='/users/e55b5d79-71ab-4278-9295-fb7fbb55185f/', type=['User', 'Item'], summary=None, title='Marlena Starrs'), User(status='current', schema_version='5', uuid='e52019b1-fe75-4817-b1ac-49c12976b2d2', notes=None, aliases=None, creation_timestamp=None, submitted_by=None, submitter_comment=None, description=None, email=None, first_name=None, last_name=None, lab='/labs/livnat-jerby/', submits_for=['/labs/livnat-jerby/'], groups=None, viewing_groups=['IGVF'], job_title=None, id='/users/e52019b1-fe75-4817-b1ac-49c12976b2d2/', type=['User', 'Item'], summary=None, title='Livnat Jerby')], id='/users/@@listing?frame=object', type=None, total=225, facets=[SearchFacet(var_field='type', title='Data Type', terms=[{'key': 'User', 'doc_count': 225}])])"
      ]
     },
     "execution_count": 37,
     "metadata": {},
     "output_type": "execute_result"
    }
   ],
   "source": [
    "await api.users()"
   ]
  },
  {
   "cell_type": "code",
   "execution_count": null,
   "id": "78808b3e-edf7-48ea-bc50-9603491a573d",
   "metadata": {},
   "outputs": [],
   "source": []
  }
 ],
 "metadata": {
  "kernelspec": {
   "display_name": "Python 3 (ipykernel)",
   "language": "python",
   "name": "python3"
  },
  "language_info": {
   "codemirror_mode": {
    "name": "ipython",
    "version": 3
   },
   "file_extension": ".py",
   "mimetype": "text/x-python",
   "name": "python",
   "nbconvert_exporter": "python",
   "pygments_lexer": "ipython3",
   "version": "3.11.9"
  }
 },
 "nbformat": 4,
 "nbformat_minor": 5
}
