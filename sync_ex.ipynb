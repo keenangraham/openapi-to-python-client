{
 "cells": [
  {
   "cell_type": "code",
   "execution_count": 1,
   "id": "09b2dd1a-3a32-44e3-9d13-03159973c5da",
   "metadata": {},
   "outputs": [],
   "source": [
    "from igvf_client import IgvfApi"
   ]
  },
  {
   "cell_type": "code",
   "execution_count": 2,
   "id": "ac87341e-32a7-431e-bd5b-c0faab15e18c",
   "metadata": {},
   "outputs": [],
   "source": [
    "api = IgvfApi()"
   ]
  },
  {
   "cell_type": "code",
   "execution_count": 3,
   "id": "4f8f161e-c187-4058-9db1-da6419fa33c0",
   "metadata": {},
   "outputs": [
    {
     "name": "stdout",
     "output_type": "stream",
     "text": [
      "['AccessKey', 'AnalysisStep', 'AnalysisStepVersion', 'Award', 'Biomarker', 'Document', 'HumanDonor', 'RodentDonor', 'AlignmentFile', 'ConfigurationFile', 'GenomeBrowserAnnotationFile', 'ImageFile', 'MatrixFile', 'ModelFile', 'ReferenceFile', 'SequenceFile', 'SignalFile', 'TabularFile', 'AnalysisSet', 'AuxiliarySet', 'ConstructLibrarySet', 'CuratedSet', 'MeasurementSet', 'ModelSet', 'PredictionSet', 'Gene', 'Image', 'InstitutionalCertificate', 'Lab', 'CrisprModification', 'DegronModification', 'AssayTerm', 'PhenotypeTerm', 'PlatformTerm', 'SampleTerm', 'OpenReadingFrame', 'Page', 'PhenotypicFeature', 'Publication', 'InVitroSystem', 'MultiplexedSample', 'PrimaryCell', 'TechnicalSample', 'Tissue', 'WholeOrganism', 'Software', 'SoftwareVersion', 'Source', 'Treatment', 'User', 'Workflow']\n"
     ]
    }
   ],
   "source": [
    "item_types = [x for x in api.schemas().keys() if '_' not in x and '@' not in x]\n",
    "print(item_types)"
   ]
  },
  {
   "cell_type": "code",
   "execution_count": 4,
   "id": "db92f26d-5d2f-4aeb-a71f-a6d10cfff7cb",
   "metadata": {},
   "outputs": [
    {
     "name": "stdout",
     "output_type": "stream",
     "text": [
      "2.497177839279175 {'SequenceFile': 9257, 'ConfigurationFile': 767, 'ReferenceFile': 709, 'MeasurementSet': 607, 'AuxiliarySet': 284, 'PhenotypeTerm': 275, 'User': 225, 'Source': 109, 'Lab': 102, 'SampleTerm': 80, 'Publication': 71, 'CuratedSet': 59, 'Software': 48, 'TabularFile': 44, 'Image': 44, 'Award': 27, 'PlatformTerm': 24, 'AssayTerm': 22, 'HumanDonor': 16, 'Page': 15, 'RodentDonor': 11, 'AnalysisSet': 11, 'Document': 10, 'ConstructLibrarySet': 9, 'MultiplexedSample': 8, 'Tissue': 8, 'SignalFile': 7, 'CrisprModification': 3, 'Treatment': 3, 'PhenotypicFeature': 1, 'AccessKey': 0, 'AnalysisStep': 0, 'AnalysisStepVersion': 0, 'Biomarker': 0, 'AlignmentFile': 0, 'GenomeBrowserAnnotationFile': 0, 'ImageFile': 0, 'MatrixFile': 0, 'ModelFile': 0, 'ModelSet': 0, 'PredictionSet': 0, 'Gene': 0, 'InstitutionalCertificate': 0, 'DegronModification': 0, 'OpenReadingFrame': 0, 'InVitroSystem': 0, 'PrimaryCell': 0, 'TechnicalSample': 0, 'WholeOrganism': 0, 'SoftwareVersion': 0, 'Workflow': 0}\n"
     ]
    }
   ],
   "source": [
    "import time\n",
    "s = time.time()\n",
    "totals = {}\n",
    "for item_type in item_types:\n",
    "    total = api.search(type=[item_type], limit=0).total\n",
    "    totals[item_type] = total\n",
    "e = time.time()\n",
    "print(e - s, dict(sorted(totals.items(), key=lambda x: -x[1])))"
   ]
  },
  {
   "cell_type": "code",
   "execution_count": null,
   "id": "80c1d5bd-de8f-413e-a5f0-c9106c716bc1",
   "metadata": {},
   "outputs": [],
   "source": []
  }
 ],
 "metadata": {
  "kernelspec": {
   "display_name": "Python 3 (ipykernel)",
   "language": "python",
   "name": "python3"
  },
  "language_info": {
   "codemirror_mode": {
    "name": "ipython",
    "version": 3
   },
   "file_extension": ".py",
   "mimetype": "text/x-python",
   "name": "python",
   "nbconvert_exporter": "python",
   "pygments_lexer": "ipython3",
   "version": "3.11.9"
  }
 },
 "nbformat": 4,
 "nbformat_minor": 5
}
